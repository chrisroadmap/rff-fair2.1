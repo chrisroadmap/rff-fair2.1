{
 "cells": [
  {
   "cell_type": "markdown",
   "id": "ae8f2073",
   "metadata": {},
   "source": [
    "# Run 2.1\n",
    "\n",
    "- use all 10000 emissions scenarios\n",
    "- select 100 ensemble members at random per run\n",
    "- infill non-CO2, non-CH4, non-N2O with SSP2-4.5"
   ]
  },
  {
   "cell_type": "code",
   "execution_count": null,
   "id": "ffc6d3b1",
   "metadata": {},
   "outputs": [],
   "source": [
    "from fair21 import CH4LifetimeMethod, SpeciesID, Category, RunMode, Species, Scenario, ClimateResponse, SpeciesConfig, Config, RunConfig\n",
    "from fair21.defaults.default_species_config import default_species_config\n",
    "from fair21.earth_params import earth_radius, seconds_per_year\n",
    "\n",
    "from tqdm import tqdm\n",
    "from climateforcing.utils import mkdir_p\n",
    "import matplotlib.pyplot as pl\n",
    "import numpy as np\n",
    "import pandas as pd\n",
    "import xarray as xr\n",
    "\n",
    "import gc\n",
    "import copy\n",
    "import random"
   ]
  },
  {
   "cell_type": "code",
   "execution_count": null,
   "id": "c23f0c59",
   "metadata": {},
   "outputs": [],
   "source": [
    "n_scen = 10000  # 10000 in full run"
   ]
  },
  {
   "cell_type": "code",
   "execution_count": null,
   "id": "8034a1a4",
   "metadata": {},
   "outputs": [],
   "source": [
    "df_emis = pd.read_csv('../../data/rcmip/rcmip-emissions-annual-means-v5-1-0.csv')\n",
    "df_forc = pd.read_csv('../../data/forcing/table_A3.3_historical_ERF_1750-2019_best_estimate.csv')"
   ]
  },
  {
   "cell_type": "code",
   "execution_count": null,
   "id": "10b36024",
   "metadata": {},
   "outputs": [],
   "source": [
    "species_ids = {\n",
    "    # Greenhouse gases and precursors\n",
    "    'co2_ffi': SpeciesID('CO2 fossil fuel and industrial', Category.CO2_FFI),\n",
    "    'co2_afolu': SpeciesID('CO2 AFOLU', Category.CO2_AFOLU),\n",
    "    'co2': SpeciesID('CO2', Category.CO2),\n",
    "    'ch4': SpeciesID('CH4', Category.CH4),\n",
    "    'n2o': SpeciesID('N2O', Category.N2O),\n",
    "    'cfc-11': SpeciesID('CFC-11', Category.CFC_11),\n",
    "    'cfc-12': SpeciesID('CFC-12', Category.OTHER_HALOGEN),\n",
    "    'cfc-113': SpeciesID('CFC-113', Category.OTHER_HALOGEN),\n",
    "    'cfc-114': SpeciesID('CFC-114', Category.OTHER_HALOGEN),\n",
    "    'cfc-115': SpeciesID('CFC-115', Category.OTHER_HALOGEN),\n",
    "    'hcfc-22': SpeciesID('HCFC-22', Category.OTHER_HALOGEN),\n",
    "    'hcfc-141b': SpeciesID('HCFC-141b', Category.OTHER_HALOGEN),\n",
    "    'hcfc-142b': SpeciesID('HCFC-142b', Category.OTHER_HALOGEN),\n",
    "    'ccl4': SpeciesID('CCl4', Category.OTHER_HALOGEN),\n",
    "    'chcl3': SpeciesID('CHCl3', Category.OTHER_HALOGEN),\n",
    "    'ch2cl2': SpeciesID('CH2Cl2', Category.OTHER_HALOGEN),\n",
    "    'ch3cl': SpeciesID('CH3Cl', Category.OTHER_HALOGEN),\n",
    "    'ch3ccl3': SpeciesID('CH3CCl3', Category.OTHER_HALOGEN),\n",
    "    'ch3br': SpeciesID('CH3Br', Category.OTHER_HALOGEN),\n",
    "    'halon-1211': SpeciesID('Halon-1211', Category.OTHER_HALOGEN),\n",
    "    'halon-1301': SpeciesID('Halon-1301', Category.OTHER_HALOGEN),\n",
    "    'halon-2402': SpeciesID('Halon-2402', Category.OTHER_HALOGEN),\n",
    "    'cf4': SpeciesID('CF4', Category.F_GAS),\n",
    "    'c2f6': SpeciesID('C2F6', Category.F_GAS),\n",
    "    'c3f8': SpeciesID('C3F8', Category.F_GAS),\n",
    "    'c-c4f8': SpeciesID('C-C4F8', Category.F_GAS),\n",
    "    'c4f10': SpeciesID('C4F10', Category.F_GAS),\n",
    "    'c5f12': SpeciesID('C5F12', Category.F_GAS),\n",
    "    'c6f14': SpeciesID('C6F14', Category.F_GAS),\n",
    "    'c7f16': SpeciesID('C7F16', Category.F_GAS),\n",
    "    'c8f18': SpeciesID('C8F18', Category.F_GAS),\n",
    "    'hfc-125': SpeciesID('HFC-125', Category.F_GAS),\n",
    "    'hfc-134a': SpeciesID('HFC-134a', Category.F_GAS),\n",
    "    'hfc-143a': SpeciesID('HFC-143a', Category.F_GAS),\n",
    "    'hfc-152a': SpeciesID('HFC-152a', Category.F_GAS),\n",
    "    'hfc-227ea': SpeciesID('HFC-227ea', Category.F_GAS),\n",
    "    'hfc-23': SpeciesID('HFC-23', Category.F_GAS),\n",
    "    'hfc-236fa': SpeciesID('HFC-236fa', Category.F_GAS),\n",
    "    'hfc-245fa': SpeciesID('HFC-245fa', Category.F_GAS),\n",
    "    'hfc-32': SpeciesID('HFC-32', Category.F_GAS),\n",
    "    'hfc-365mfc': SpeciesID('HFC-365mfc', Category.F_GAS),\n",
    "    'hfc-4310mee': SpeciesID('HFC-4310mee', Category.F_GAS),\n",
    "    'nf3': SpeciesID('NF3', Category.F_GAS),\n",
    "    'sf6': SpeciesID('SF6', Category.F_GAS),\n",
    "    'so2f2': SpeciesID('SO2F2', Category.F_GAS),\n",
    "    # aerosols, ozone, and their precursors\n",
    "    'sulfur': SpeciesID('Sulfur', Category.SULFUR),\n",
    "    'bc': SpeciesID('BC', Category.BC),\n",
    "    'oc': SpeciesID('OC', Category.OC),\n",
    "    'nh3': SpeciesID('NH3', Category.OTHER_AEROSOL),\n",
    "    'voc': SpeciesID('VOC', Category.REACTIVE_GAS),\n",
    "    'co': SpeciesID('CO', Category.REACTIVE_GAS),\n",
    "    'nox': SpeciesID('NOx', Category.REACTIVE_GAS),\n",
    "    'ari': SpeciesID('Aerosol-Radiation Interactions', Category.AEROSOL_RADIATION_INTERACTIONS),\n",
    "    'aci': SpeciesID('Aerosol-Cloud Interactions', Category.AEROSOL_CLOUD_INTERACTIONS),\n",
    "    'ozone': SpeciesID('Ozone', Category.OZONE),\n",
    "    # Contrails and precursors\n",
    "    'nox_aviation': SpeciesID('NOx Aviation', Category.NOX_AVIATION),\n",
    "    'contrails': SpeciesID('Contrails', Category.CONTRAILS),\n",
    "    # other minor anthropogenic\n",
    "    'lapsi': SpeciesID('Light absorbing particles on snow and ice', Category.LAPSI),\n",
    "    'h2o_stratospheric': SpeciesID('H2O Stratospheric', Category.H2O_STRATOSPHERIC),\n",
    "    'land_use': SpeciesID('Land Use', Category.LAND_USE),\n",
    "    # natural\n",
    "    'solar': SpeciesID('Solar', Category.SOLAR),\n",
    "    'volcanic': SpeciesID('Volcanic', Category.VOLCANIC)\n",
    "}"
   ]
  },
  {
   "cell_type": "code",
   "execution_count": null,
   "id": "4e2e9246",
   "metadata": {},
   "outputs": [],
   "source": [
    "emitted_species = [\n",
    "    'Sulfur', 'BC', 'OC', 'NH3', 'NOx', 'VOC', 'CO',\n",
    "    'CFC-11', 'CFC-12', 'CFC-113', 'CFC-114', 'CFC-115',\n",
    "    'HCFC-22', 'HCFC-141b', 'HCFC-142b',\n",
    "    'CCl4', 'CHCl3', 'CH2Cl2', 'CH3Cl', 'CH3CCl3', 'CH3Br',\n",
    "    'Halon-1211', 'Halon-1301', 'Halon-2402',\n",
    "    'CF4', 'C2F6', 'C3F8', 'c-C4F8', 'C4F10', 'C5F12', 'C6F14', 'C7F16', 'C8F18',\n",
    "    'NF3', 'SF6', 'SO2F2',\n",
    "    'HFC-125', 'HFC-134a', 'HFC-143a', 'HFC-152a', 'HFC-227ea', 'HFC-23', 'HFC-236fa', 'HFC-245fa', 'HFC-32', 'HFC-365mfc',\n",
    "    'HFC-4310mee', 'NOx_aviation']\n",
    "forced_species = ['solar', 'volcanic']\n",
    "from_other_species = ['ari', 'aci', 'ozone', 'contrails', 'lapsi', 'h2o_stratospheric', 'land_use']"
   ]
  },
  {
   "cell_type": "code",
   "execution_count": null,
   "id": "e545e0b6",
   "metadata": {},
   "outputs": [],
   "source": [
    "species = {}\n",
    "\n",
    "co2 = np.zeros((551, n_scen))\n",
    "\n",
    "list_of_species = []\n",
    "for ispec, spec in enumerate(emitted_species):\n",
    "    species_rcmip_name = spec.replace(\"-\", \"\")\n",
    "    if spec == 'NOx_aviation':\n",
    "        species_rcmip_name = 'NOx|MAGICC Fossil and Industrial|Aircraft'\n",
    "    elif spec == 'CO2_FFI':\n",
    "        species_rcmip_name = 'CO2|MAGICC Fossil and Industrial'\n",
    "    elif spec == 'CO2_AFOLU':\n",
    "        species_rcmip_name = 'CO2|MAGICC AFOLU'\n",
    "    emis_in = df_emis.loc[\n",
    "        (df_emis['Scenario']=='ssp245') & (df_emis['Variable'].str.endswith(\"|\"+species_rcmip_name)) & \n",
    "        (df_emis['Region']=='World'), '1750':'2300'\n",
    "    ].interpolate(axis=1).values.squeeze()\n",
    "    list_of_species.append(Species(species_ids[spec.lower()], emissions=emis_in))\n",
    "    \n",
    "# solar and volcanic forcing still a little hacky\n",
    "solar_forcing = np.zeros(551)\n",
    "solar_forcing[:270] = df_forc['solar'].values\n",
    "volcanic_forcing = np.zeros(551)\n",
    "volcanic_forcing[:270] = df_forc['volcanic'].values\n",
    "list_of_species.append(Species(species_ids['solar'], forcing=solar_forcing))\n",
    "list_of_species.append(Species(species_ids['volcanic'], forcing=volcanic_forcing))\n",
    "    \n",
    "# add derived species: at this stage just a declaration that we want them\n",
    "for spec in from_other_species:\n",
    "    list_of_species.append(Species(species_ids[spec]))\n",
    "\n",
    "for sample in tqdm(range(1, n_scen+1)):\n",
    "    df = pd.read_csv('../data_processed/emissions_files/emissions%05d.csv' % sample, index_col=0)\n",
    "    co2[:, sample-1] = df['CO2'].values\n",
    "\n",
    "    # remember the order!\n",
    "    species[sample] = [\n",
    "        Species(species_ids['co2_ffi'], emissions=df['CO2'].values),\n",
    "        Species(species_ids['co2_afolu'], emissions=np.zeros(551)),\n",
    "        Species(species_ids['co2']),\n",
    "        Species(species_ids['ch4'], emissions=df['CH4'].values),\n",
    "        Species(species_ids['n2o'], emissions=df['N2O'].values),\n",
    "    ] + list_of_species"
   ]
  },
  {
   "cell_type": "code",
   "execution_count": null,
   "id": "7ed0cca6",
   "metadata": {},
   "outputs": [],
   "source": [
    "len(species)"
   ]
  },
  {
   "cell_type": "code",
   "execution_count": null,
   "id": "9a9999b2",
   "metadata": {},
   "outputs": [],
   "source": [
    "len(species[1000])"
   ]
  },
  {
   "cell_type": "code",
   "execution_count": null,
   "id": "e1a12af7",
   "metadata": {},
   "outputs": [],
   "source": [
    "pl.plot(np.arange(1750, 2301), np.median(co2, axis=1))"
   ]
  },
  {
   "cell_type": "markdown",
   "id": "07358a69",
   "metadata": {},
   "source": [
    "## Defining Scenarios\n",
    "\n",
    "We have declared all of our `Species`, and we now need to formally assign them to `Scenario`s in the code."
   ]
  },
  {
   "cell_type": "markdown",
   "id": "6f926186",
   "metadata": {},
   "source": [
    "`scenarios` go into `fair` as a list, and we can take a peek at what our `Scenario` actually looks like to FaIR."
   ]
  },
  {
   "cell_type": "code",
   "execution_count": null,
   "id": "e70c9337",
   "metadata": {},
   "outputs": [],
   "source": [
    "scenarios = []\n",
    "for scenario in tqdm(range(1, n_scen+1)):\n",
    "    scenarios.append(Scenario(scenario, species[scenario]))"
   ]
  },
  {
   "cell_type": "code",
   "execution_count": null,
   "id": "26b7369f",
   "metadata": {},
   "outputs": [],
   "source": [
    "len(scenarios)"
   ]
  },
  {
   "cell_type": "code",
   "execution_count": null,
   "id": "dd0e6700",
   "metadata": {},
   "outputs": [],
   "source": [
    "scenarios[9999]"
   ]
  },
  {
   "cell_type": "markdown",
   "id": "80937b55",
   "metadata": {},
   "source": [
    "## The Configs\n",
    "\n",
    "`Scenario`s define what goes into the model, but `Config`s define the model behaviour. There are two types of configs (well, actually three if you include the overall run configs, but these are defined at the top level and we'll revisit these later):\n",
    "\n",
    "1. `ClimateResponse` defines the climate sensitivity, ocean heat capacities, heat transfer coefficient, etc. It defines how forcing is converted to temperature in the model. Only one `ClimateResponse` per config should be defined.\n",
    "2. `SpeciesConfig` defines things such as greenhouse gas lifetimes, radiative forcing efficacy, gas cycle airborne fraction, and many other things. It has a lot of options, and a lot of flexibility. A list containing a `SpeciesConfig` for each defined species in the scenarios needs to be provided.\n",
    "\n",
    "`Config`s are defined as follows:\n",
    "\n",
    "```\n",
    "config = Config(name, climate_response, species_configs)\n",
    "```\n",
    "\n",
    "We then provide a list of configs to FaIR."
   ]
  },
  {
   "cell_type": "markdown",
   "id": "724e454d",
   "metadata": {},
   "source": [
    "We want 100 configs per scenario."
   ]
  },
  {
   "cell_type": "markdown",
   "id": "21591c03",
   "metadata": {},
   "source": [
    "### Climate response\n",
    "\n",
    "We'll start with the climate response which is slightly easier. This is an $n$-box energy balance model, where $n=3$ by default (this can be changed in the `RunConfig`). "
   ]
  },
  {
   "cell_type": "code",
   "execution_count": null,
   "id": "c942e9f0",
   "metadata": {},
   "outputs": [],
   "source": [
    "accept = np.loadtxt('../../data/ar6_ensemble_batches/final.csv').astype(int)\n",
    "accept"
   ]
  },
  {
   "cell_type": "code",
   "execution_count": null,
   "id": "7d486b9d",
   "metadata": {},
   "outputs": [],
   "source": [
    "aci=pd.read_csv('../../data/parameter_sets/erfaci.csv').loc[accept]\n",
    "ari=pd.read_csv('../../data/parameter_sets/erfari.csv').loc[accept]\n",
    "ozone=pd.read_csv('../../data/parameter_sets/ozone.csv').loc[accept]"
   ]
  },
  {
   "cell_type": "code",
   "execution_count": null,
   "id": "fb544ebc",
   "metadata": {},
   "outputs": [],
   "source": [
    "co2_pi = pd.read_csv('../../data/parameter_sets/co2_concentration_1750.csv').loc[accept]\n",
    "co2_pi"
   ]
  },
  {
   "cell_type": "code",
   "execution_count": null,
   "id": "10b7e65e",
   "metadata": {},
   "outputs": [],
   "source": [
    "cc = pd.read_csv('../../data/parameter_sets/carbon_cycle.csv').loc[accept]\n",
    "cc"
   ]
  },
  {
   "cell_type": "code",
   "execution_count": null,
   "id": "87e2cfc6",
   "metadata": {},
   "outputs": [],
   "source": [
    "cr = pd.read_csv('../../data/parameter_sets/climate_response.csv').loc[accept]\n",
    "cr"
   ]
  },
  {
   "cell_type": "code",
   "execution_count": null,
   "id": "eb6faa49",
   "metadata": {},
   "outputs": [],
   "source": [
    "calibrated_f4co2_mean = cr['F_4xCO2'].loc[accept].mean()\n",
    "calibrated_f4co2_mean"
   ]
  },
  {
   "cell_type": "code",
   "execution_count": null,
   "id": "c319bb04",
   "metadata": {},
   "outputs": [],
   "source": [
    "scale = pd.read_csv('../../data/parameter_sets/forcing_scaling.csv').loc[accept]\n",
    "scale"
   ]
  },
  {
   "cell_type": "code",
   "execution_count": null,
   "id": "bf4aeda2",
   "metadata": {},
   "outputs": [],
   "source": [
    "cr['c1']"
   ]
  },
  {
   "cell_type": "code",
   "execution_count": null,
   "id": "7c3461f0",
   "metadata": {},
   "outputs": [],
   "source": [
    "species_to_include = ['co2_ffi', 'co2_afolu', 'co2', 'ch4', 'n2o'] + emitted_species + forced_species + from_other_species"
   ]
  },
  {
   "cell_type": "code",
   "execution_count": null,
   "id": "bf78693e",
   "metadata": {},
   "outputs": [],
   "source": [
    "species_index = {}\n",
    "for i in range(len(species_to_include)):\n",
    "    species_index[species_to_include[i].lower()] = i"
   ]
  },
  {
   "cell_type": "code",
   "execution_count": null,
   "id": "b7036123",
   "metadata": {},
   "outputs": [],
   "source": [
    "species_index"
   ]
  },
  {
   "cell_type": "code",
   "execution_count": null,
   "id": "0fb6121b",
   "metadata": {},
   "outputs": [],
   "source": [
    "n_ens = 100\n",
    "run_config = RunConfig(ch4_lifetime_method=CH4LifetimeMethod.AERCHEMMIP)\n",
    "\n",
    "climate_response = [None] * 1001\n",
    "species_configs = [None] * 1001\n",
    "\n",
    "# for i_scen in tqdm(range(n_scen)):\n",
    "#     configs = []\n",
    "#     random.seed(i_scen)\n",
    "#     config_sample = random.sample(range(1001), n_ens)\n",
    "    \n",
    "for config_label in range(1001):\n",
    "    climate_response[config_label] = ClimateResponse(\n",
    "        ocean_heat_capacity = np.array([cr['c1'].iloc[config_label], cr['c2'].iloc[config_label], cr['c3'].iloc[config_label]]),\n",
    "        ocean_heat_transfer = np.array([cr['kappa1'].iloc[config_label], cr['kappa2'].iloc[config_label], cr['kappa3'].iloc[config_label]]),\n",
    "        deep_ocean_efficacy = cr['epsilon'].iloc[config_label],\n",
    "        stochastic_run = False,\n",
    "        sigma_eta = cr['sigma_eta'].iloc[config_label],\n",
    "        sigma_xi = cr['sigma_xi'].iloc[config_label],\n",
    "        seed = config_label * 780 + 13\n",
    "    )\n",
    "    \n",
    "    species_configs[config_label] = []\n",
    "    for species_label in species_to_include:\n",
    "        # use copy here!\n",
    "        species_configs[config_label].append(copy.copy(default_species_config[species_label.lower()]))\n",
    "        # the defaults also contain the SpeciesID that has a default name and run mode. We want to override this.\n",
    "        species_configs[config_label][-1].species_id = species_ids[species_label.lower()]\n",
    "            \n",
    "    # Carbon cycle\n",
    "    species_configs[config_label][2].iirf_0 = cc['r0'].iloc[config_label]\n",
    "    species_configs[config_label][2].iirf_airborne = cc['rA'].iloc[config_label]\n",
    "    species_configs[config_label][2].iirf_cumulative = cc['rC'].iloc[config_label]\n",
    "    species_configs[config_label][2].iirf_temperature = cc['rT'].iloc[config_label]\n",
    "    species_configs[config_label][2].baseline_concentration = co2_pi['co2_concentration'].iloc[config_label]\n",
    "\n",
    "    # aerosol indirect params\n",
    "    species_configs[config_label][56].aci_params = {\n",
    "        \"scale\": aci.loc[accept[config_label], \"beta\"],\n",
    "        \"Sulfur\": aci.loc[accept[config_label], \"shape_so2\"], \n",
    "        \"BC+OC\": aci.loc[accept[config_label], \"shape_bcoc\"]\n",
    "    }\n",
    "\n",
    "    # methane lifetime params (not varied, defaults are baked in)\n",
    "    species_configs[config_label][3].lifetime = 10.788405534387858\n",
    "    species_configs[config_label][3].natural_emissions_adjustment = 19.019783117809567\n",
    "    species_configs[config_label][3].soil_lifetime = 185\n",
    "\n",
    "    # aerosol direct params\n",
    "    for index in ari:\n",
    "        species_configs[config_label][species_index[index.lower()]].erfari_radiative_efficiency = ari.loc[accept[config_label], index]\n",
    "\n",
    "    # Scale factors for forcing\n",
    "    species_configs[config_label][2].scale = 1 + 0.561 * (calibrated_f4co2_mean - cr['F_4xCO2'].iloc[config_label])/calibrated_f4co2_mean\n",
    "    for index in scale:\n",
    "        if index in ['minorGHG', 'solar_amplitude', 'solar_trend', 'CO2']:\n",
    "            continue\n",
    "        species_configs[config_label][species_index[index.lower()]].scale = scale.loc[accept[config_label], index]\n",
    "        species_configs[config_label][53].scale = scale.loc[accept[config_label], 'solar_amplitude']\n",
    "        for idx in range(5, 45):\n",
    "            species_configs[config_label][idx].scale = scale.loc[accept[config_label], 'minorGHG']\n",
    "        species_configs[config_label][3].scale = scale['CH4'].iloc[config_label]\n",
    "        species_configs[config_label][4].scale = scale['N2O'].iloc[config_label]\n",
    "\n",
    "    # ozone scalings\n",
    "    for index in ozone:\n",
    "        if index=='ODS':\n",
    "            for idx in range(12, 29):\n",
    "                species_configs[config_label][idx].ozone_radiative_efficiency = ozone.loc[accept[config_label], 'ODS']\n",
    "        else:\n",
    "            species_configs[config_label][species_index[index.lower()]].ozone_radiative_efficiency = ozone.loc[accept[config_label], index]\n",
    "\n",
    "    # volcanic efficacy is something like 0.6. Could in future be sampled.\n",
    "    species_configs[config_label][54].efficacy = 0.6"
   ]
  },
  {
   "cell_type": "markdown",
   "id": "207dae45",
   "metadata": {},
   "source": [
    "### now, let's assign to Configs"
   ]
  },
  {
   "cell_type": "code",
   "execution_count": null,
   "id": "3d60bb2e",
   "metadata": {},
   "outputs": [],
   "source": [
    "# configs = []\n",
    "# for config_label in range(1001):\n",
    "#     configs.append(Config(config_label, climate_response[config_label], species_configs[config_label]))"
   ]
  },
  {
   "cell_type": "markdown",
   "id": "ce8943dc",
   "metadata": {},
   "source": [
    "## Now, we can run FaIR"
   ]
  },
  {
   "cell_type": "code",
   "execution_count": null,
   "id": "36d76fac",
   "metadata": {},
   "outputs": [],
   "source": [
    "from fair21 import FAIR\n",
    "timestep = 1  # not required, but demonstrated"
   ]
  },
  {
   "cell_type": "code",
   "execution_count": null,
   "id": "21151940",
   "metadata": {},
   "outputs": [],
   "source": [
    "mkdir_p('../data_output/')"
   ]
  },
  {
   "cell_type": "code",
   "execution_count": null,
   "id": "dfa3d2a2",
   "metadata": {},
   "outputs": [],
   "source": [
    "for i_scen in tqdm(range(n_scen)):\n",
    "    configs = [None] * 100\n",
    "    random.seed(i_scen)\n",
    "    config_sample = random.sample(range(1001), n_ens)\n",
    "    for i, i_config in enumerate(config_sample):\n",
    "        configs[i] = Config(i_config, climate_response[i_config], species_configs[i_config])\n",
    "    scen2run = copy.deepcopy(scenarios[i_scen])\n",
    "    fair = FAIR([scen2run], configs, run_config=run_config)\n",
    "    fair.run(progress=False)\n",
    "    fair.calculate_ocean_heat_content_change()\n",
    "    ds = xr.Dataset(\n",
    "        {\n",
    "            \"temperature\": ([\"year\", \"run\"], fair.temperature[:, 0, :, 0, 0] - fair.temperature[100:151, 0, :, 0, 0].mean(axis=0)),\n",
    "            \"effective_radiative_forcing\": ([\"year\", \"run\"], fair.forcing_sum_array[:, 0, :, 0, 0]),\n",
    "            \"ocean_heat_content_change\": ([\"year\", \"run\"], fair.ocean_heat_content_change[:, 0, :, 0, 0]),\n",
    "            \"co2_concentration\": ([\"year\", \"run\"], fair.concentration_array[:, 0, :, 2, 0]),\n",
    "            \"ch4_concentration\": ([\"year\", \"run\"], fair.concentration_array[:, 0, :, 3, 0]),\n",
    "            \"n2o_concentration\": ([\"year\"], fair.concentration_array[:, 0, 0, 4, 0]),\n",
    "        },\n",
    "        coords={\n",
    "            \"year\": (np.arange(1750.5, 2301)),\n",
    "            \"run\": accept[config_sample]\n",
    "        },\n",
    "    )\n",
    "    ds.to_netcdf('../data_output/run%05d.nc' % (i_scen+1))\n",
    "    ds.close()\n",
    "    #gc.collect()\n",
    "    #print(gc.get_referrers(configs))\n",
    "    \n",
    "    #print(sys.getrefcount(config_sample), sys.getrefcount(fair), sys.getrefcount(ds), sys.getrefcount(configs))\n",
    "    # call garbage collection after each interation seems to be the only way to stop memory errors\n",
    "#     del fair\n",
    "#     del ds\n",
    "#     del configs\n",
    "#    print(sys.getrefcount(fair.airborne_emissions_array))\n",
    "#    gc.collect()\n",
    "#    %memit"
   ]
  }
 ],
 "metadata": {
  "kernelspec": {
   "display_name": "Python 3 (ipykernel)",
   "language": "python",
   "name": "python3"
  },
  "language_info": {
   "codemirror_mode": {
    "name": "ipython",
    "version": 3
   },
   "file_extension": ".py",
   "mimetype": "text/x-python",
   "name": "python",
   "nbconvert_exporter": "python",
   "pygments_lexer": "ipython3",
   "version": "3.7.12"
  }
 },
 "nbformat": 4,
 "nbformat_minor": 5
}
