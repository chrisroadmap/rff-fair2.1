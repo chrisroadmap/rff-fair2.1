{
 "cells": [
  {
   "cell_type": "code",
   "execution_count": null,
   "id": "aa511d52",
   "metadata": {},
   "outputs": [],
   "source": [
    "import pandas as pd\n",
    "import numpy as np\n",
    "from tqdm.autonotebook import tqdm\n",
    "import matplotlib.pyplot as pl\n",
    "import pooch\n",
    "import os"
   ]
  },
  {
   "cell_type": "code",
   "execution_count": null,
   "id": "a6f27d6b",
   "metadata": {},
   "outputs": [],
   "source": [
    "df_co2 = pd.read_csv('../data_input/rffsp_co2_emissions.csv')\n",
    "df_ch4 = pd.read_csv('../data_input/rffsp_ch4_emissions.csv')\n",
    "df_n2o = pd.read_csv('../data_input/rffsp_n2o_emissions.csv')"
   ]
  },
  {
   "cell_type": "code",
   "execution_count": null,
   "id": "fd3f3fcd",
   "metadata": {},
   "outputs": [],
   "source": [
    "ssp_emissions = pooch.retrieve(\"https://zenodo.org/record/4589756/files/rcmip-emissions-annual-means-v5-1-0.csv\",\n",
    "                              \"md5:4044106f55ca65b094670e7577eaf9b3\")\n",
    "df_ssp = pd.read_csv(ssp_emissions)"
   ]
  },
  {
   "cell_type": "code",
   "execution_count": null,
   "id": "1b5748b1",
   "metadata": {},
   "outputs": [],
   "source": [
    "co2_hist = df_ssp.loc[(df_ssp['Region']=='World')&(df_ssp['Scenario']=='ssp245')&(df_ssp['Variable']=='Emissions|CO2'),'1750':'2020'].interpolate(axis=1).values.squeeze()\n",
    "ch4_hist = df_ssp.loc[(df_ssp['Region']=='World')&(df_ssp['Scenario']=='ssp245')&(df_ssp['Variable']=='Emissions|CH4'),'1750':'2020'].interpolate(axis=1).values.squeeze()\n",
    "n2o_hist = df_ssp.loc[(df_ssp['Region']=='World')&(df_ssp['Scenario']=='ssp245')&(df_ssp['Variable']=='Emissions|N2O'),'1750':'2020'].interpolate(axis=1).values.squeeze()"
   ]
  },
  {
   "cell_type": "code",
   "execution_count": null,
   "id": "48eeccaa",
   "metadata": {},
   "outputs": [],
   "source": [
    "df_co2"
   ]
  },
  {
   "cell_type": "code",
   "execution_count": null,
   "id": "63bd60ac",
   "metadata": {},
   "outputs": [],
   "source": [
    "os.makedirs('../data_processed/emissions_files', exist_ok=True)"
   ]
  },
  {
   "cell_type": "code",
   "execution_count": null,
   "id": "f7c3a9cf",
   "metadata": {},
   "outputs": [],
   "source": [
    "for sample in tqdm(range(1, 10001)):\n",
    "    emissions = np.zeros((551, 3))\n",
    "    co2 = df_co2[df_co2['sample']==sample].value.values\n",
    "    ch4 = df_ch4[df_ch4['sample']==sample].value.values\n",
    "    n2o = df_n2o[df_n2o['sample']==sample].value.values\n",
    "    emissions[:270, 0] = co2_hist[:-1] / 1000\n",
    "    emissions[:270, 1] = ch4_hist[:-1]\n",
    "    emissions[:270, 2] = n2o_hist[:-1] / 1000\n",
    "    emissions[270:, 0] = co2 * 44.009 / 12.011\n",
    "    emissions[270:, 1] = ch4\n",
    "    emissions[270:, 2] = n2o * 44.013 / 28.014\n",
    "    df_out = pd.DataFrame(emissions, columns=['CO2', 'CH4', 'N2O'], index=range(1750,2301))\n",
    "    df_out.to_csv('../data_processed/emissions_files/emissions%05d.csv' % sample)"
   ]
  },
  {
   "cell_type": "code",
   "execution_count": null,
   "id": "568c538d",
   "metadata": {},
   "outputs": [],
   "source": [
    "pl.plot(np.arange(1750, 2301), emissions[:,0])\n",
    "pl.plot(np.arange(1750, 2301), emissions[:,1])\n",
    "pl.plot(np.arange(1750, 2301), emissions[:,2])"
   ]
  },
  {
   "cell_type": "code",
   "execution_count": null,
   "id": "e19751ad",
   "metadata": {},
   "outputs": [],
   "source": []
  }
 ],
 "metadata": {
  "kernelspec": {
   "display_name": "Python 3 (ipykernel)",
   "language": "python",
   "name": "python3"
  },
  "language_info": {
   "codemirror_mode": {
    "name": "ipython",
    "version": 3
   },
   "file_extension": ".py",
   "mimetype": "text/x-python",
   "name": "python",
   "nbconvert_exporter": "python",
   "pygments_lexer": "ipython3",
   "version": "3.10.6"
  }
 },
 "nbformat": 4,
 "nbformat_minor": 5
}
