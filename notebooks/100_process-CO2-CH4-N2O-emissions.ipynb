{
 "cells": [
  {
   "cell_type": "code",
   "execution_count": 1,
   "id": "aa511d52",
   "metadata": {},
   "outputs": [
    {
     "name": "stderr",
     "output_type": "stream",
     "text": [
      "C:\\Users\\smithc\\AppData\\Local\\Temp\\ipykernel_3420\\3142861509.py:3: TqdmExperimentalWarning: Using `tqdm.autonotebook.tqdm` in notebook mode. Use `tqdm.tqdm` instead to force console mode (e.g. in jupyter console)\n",
      "  from tqdm.autonotebook import tqdm\n"
     ]
    }
   ],
   "source": [
    "import pandas as pd\n",
    "import numpy as np\n",
    "from tqdm.autonotebook import tqdm\n",
    "import matplotlib.pyplot as pl\n",
    "import pooch\n",
    "import os"
   ]
  },
  {
   "cell_type": "code",
   "execution_count": 2,
   "id": "a6f27d6b",
   "metadata": {},
   "outputs": [],
   "source": [
    "df_co2 = pd.read_csv('../data_input/rffsp_co2_emissions.csv')\n",
    "df_ch4 = pd.read_csv('../data_input/rffsp_ch4_emissions.csv')\n",
    "df_n2o = pd.read_csv('../data_input/rffsp_n2o_emissions.csv')"
   ]
  },
  {
   "cell_type": "code",
   "execution_count": 3,
   "id": "fd3f3fcd",
   "metadata": {},
   "outputs": [
    {
     "name": "stderr",
     "output_type": "stream",
     "text": [
      "Downloading data from 'https://zenodo.org/record/4589756/files/rcmip-emissions-annual-means-v5-1-0.csv' to file 'C:\\Users\\smithc\\AppData\\Local\\pooch\\pooch\\Cache\\515eec1b121e3236ae093b57cb0349fc-rcmip-emissions-annual-means-v5-1-0.csv'.\n"
     ]
    }
   ],
   "source": [
    "ssp_emissions = pooch.retrieve(\"https://zenodo.org/record/4589756/files/rcmip-emissions-annual-means-v5-1-0.csv\",\n",
    "                              \"md5:4044106f55ca65b094670e7577eaf9b3\")\n",
    "df_ssp = pd.read_csv(ssp_emissions)"
   ]
  },
  {
   "cell_type": "code",
   "execution_count": 4,
   "id": "1b5748b1",
   "metadata": {},
   "outputs": [],
   "source": [
    "co2_hist = df_ssp.loc[(df_ssp['Region']=='World')&(df_ssp['Scenario']=='ssp245')&(df_ssp['Variable']=='Emissions|CO2'),'1750':'2020'].interpolate(axis=1).values.squeeze()\n",
    "ch4_hist = df_ssp.loc[(df_ssp['Region']=='World')&(df_ssp['Scenario']=='ssp245')&(df_ssp['Variable']=='Emissions|CH4'),'1750':'2020'].interpolate(axis=1).values.squeeze()\n",
    "n2o_hist = df_ssp.loc[(df_ssp['Region']=='World')&(df_ssp['Scenario']=='ssp245')&(df_ssp['Variable']=='Emissions|N2O'),'1750':'2020'].interpolate(axis=1).values.squeeze()"
   ]
  },
  {
   "cell_type": "code",
   "execution_count": 5,
   "id": "48eeccaa",
   "metadata": {},
   "outputs": [
    {
     "data": {
      "text/html": [
       "<div>\n",
       "<style scoped>\n",
       "    .dataframe tbody tr th:only-of-type {\n",
       "        vertical-align: middle;\n",
       "    }\n",
       "\n",
       "    .dataframe tbody tr th {\n",
       "        vertical-align: top;\n",
       "    }\n",
       "\n",
       "    .dataframe thead th {\n",
       "        text-align: right;\n",
       "    }\n",
       "</style>\n",
       "<table border=\"1\" class=\"dataframe\">\n",
       "  <thead>\n",
       "    <tr style=\"text-align: right;\">\n",
       "      <th></th>\n",
       "      <th>sample</th>\n",
       "      <th>year</th>\n",
       "      <th>value</th>\n",
       "    </tr>\n",
       "  </thead>\n",
       "  <tbody>\n",
       "    <tr>\n",
       "      <th>0</th>\n",
       "      <td>1</td>\n",
       "      <td>2020</td>\n",
       "      <td>11.083171</td>\n",
       "    </tr>\n",
       "    <tr>\n",
       "      <th>1</th>\n",
       "      <td>2</td>\n",
       "      <td>2020</td>\n",
       "      <td>11.083171</td>\n",
       "    </tr>\n",
       "    <tr>\n",
       "      <th>2</th>\n",
       "      <td>3</td>\n",
       "      <td>2020</td>\n",
       "      <td>11.083171</td>\n",
       "    </tr>\n",
       "    <tr>\n",
       "      <th>3</th>\n",
       "      <td>4</td>\n",
       "      <td>2020</td>\n",
       "      <td>11.083171</td>\n",
       "    </tr>\n",
       "    <tr>\n",
       "      <th>4</th>\n",
       "      <td>5</td>\n",
       "      <td>2020</td>\n",
       "      <td>11.083171</td>\n",
       "    </tr>\n",
       "    <tr>\n",
       "      <th>...</th>\n",
       "      <td>...</td>\n",
       "      <td>...</td>\n",
       "      <td>...</td>\n",
       "    </tr>\n",
       "    <tr>\n",
       "      <th>2809995</th>\n",
       "      <td>9996</td>\n",
       "      <td>2300</td>\n",
       "      <td>2.642114</td>\n",
       "    </tr>\n",
       "    <tr>\n",
       "      <th>2809996</th>\n",
       "      <td>9997</td>\n",
       "      <td>2300</td>\n",
       "      <td>2.740135</td>\n",
       "    </tr>\n",
       "    <tr>\n",
       "      <th>2809997</th>\n",
       "      <td>9998</td>\n",
       "      <td>2300</td>\n",
       "      <td>-5.610808</td>\n",
       "    </tr>\n",
       "    <tr>\n",
       "      <th>2809998</th>\n",
       "      <td>9999</td>\n",
       "      <td>2300</td>\n",
       "      <td>2.995989</td>\n",
       "    </tr>\n",
       "    <tr>\n",
       "      <th>2809999</th>\n",
       "      <td>10000</td>\n",
       "      <td>2300</td>\n",
       "      <td>0.066641</td>\n",
       "    </tr>\n",
       "  </tbody>\n",
       "</table>\n",
       "<p>2810000 rows × 3 columns</p>\n",
       "</div>"
      ],
      "text/plain": [
       "         sample  year      value\n",
       "0             1  2020  11.083171\n",
       "1             2  2020  11.083171\n",
       "2             3  2020  11.083171\n",
       "3             4  2020  11.083171\n",
       "4             5  2020  11.083171\n",
       "...         ...   ...        ...\n",
       "2809995    9996  2300   2.642114\n",
       "2809996    9997  2300   2.740135\n",
       "2809997    9998  2300  -5.610808\n",
       "2809998    9999  2300   2.995989\n",
       "2809999   10000  2300   0.066641\n",
       "\n",
       "[2810000 rows x 3 columns]"
      ]
     },
     "execution_count": 5,
     "metadata": {},
     "output_type": "execute_result"
    }
   ],
   "source": [
    "df_co2"
   ]
  },
  {
   "cell_type": "code",
   "execution_count": 6,
   "id": "63bd60ac",
   "metadata": {},
   "outputs": [],
   "source": [
    "os.makedirs('../data_processed/emissions_files', exist_ok=True)"
   ]
  },
  {
   "cell_type": "code",
   "execution_count": 7,
   "id": "f7c3a9cf",
   "metadata": {},
   "outputs": [
    {
     "data": {
      "application/vnd.jupyter.widget-view+json": {
       "model_id": "7622b06c44b94de7a1b7f04edf14ba78",
       "version_major": 2,
       "version_minor": 0
      },
      "text/plain": [
       "  0%|          | 0/10000 [00:00<?, ?it/s]"
      ]
     },
     "metadata": {},
     "output_type": "display_data"
    }
   ],
   "source": [
    "for sample in tqdm(range(1, 10001)):\n",
    "    emissions = np.zeros((551, 3))\n",
    "    co2 = df_co2[df_co2['sample']==sample].value.values\n",
    "    ch4 = df_ch4[df_ch4['sample']==sample].value.values\n",
    "    n2o = df_n2o[df_n2o['sample']==sample].value.values\n",
    "    emissions[:270, 0] = co2_hist[:-1] / 1000\n",
    "    emissions[:270, 1] = ch4_hist[:-1]\n",
    "    emissions[:270, 2] = n2o_hist[:-1] / 1000\n",
    "    emissions[270:, 0] = co2 * 44.009 / 12.011\n",
    "    emissions[270:, 1] = ch4\n",
    "    emissions[270:, 2] = n2o * 44.013 / 28.014\n",
    "    df_out = pd.DataFrame(emissions, columns=['CO2', 'CH4', 'N2O'], index=range(1750,2301))\n",
    "    df_out.to_csv('../data_processed/emissions_files/emissions%05d.csv' % sample)"
   ]
  },
  {
   "cell_type": "code",
   "execution_count": 8,
   "id": "568c538d",
   "metadata": {},
   "outputs": [
    {
     "data": {
      "text/plain": [
       "[<matplotlib.lines.Line2D at 0x22f31444f10>]"
      ]
     },
     "execution_count": 8,
     "metadata": {},
     "output_type": "execute_result"
    },
    {
     "data": {
      "image/png": "[encoded data removed]",
      "text/plain": [
       "<Figure size 640x480 with 1 Axes>"
      ]
     },
     "metadata": {},
     "output_type": "display_data"
    }
   ],
   "source": [
    "pl.plot(np.arange(1750, 2301), emissions[:,0])\n",
    "pl.plot(np.arange(1750, 2301), emissions[:,1])\n",
    "pl.plot(np.arange(1750, 2301), emissions[:,2])"
   ]
  },
  {
   "cell_type": "code",
   "execution_count": null,
   "id": "e19751ad",
   "metadata": {},
   "outputs": [],
   "source": []
  }
 ],
 "metadata": {
  "kernelspec": {
   "display_name": "Python 3 (ipykernel)",
   "language": "python",
   "name": "python3"
  },
  "language_info": {
   "codemirror_mode": {
    "name": "ipython",
    "version": 3
   },
   "file_extension": ".py",
   "mimetype": "text/x-python",
   "name": "python",
   "nbconvert_exporter": "python",
   "pygments_lexer": "ipython3",
   "version": "3.11.0"
  }
 },
 "nbformat": 4,
 "nbformat_minor": 5
}
