{
 "cells": [
  {
   "cell_type": "markdown",
   "id": "8a060cda",
   "metadata": {},
   "source": [
    "# Infill scenarios\n",
    "\n",
    "Use the SSP projections for non-CO2, non-CH4 and non-N2O emissions.\n",
    "\n",
    "Use CO2 as a lead variable. This might need a two-step infilling process:\n",
    "1. split CO2 into FFI and AFOLU\n",
    "2. use either total or FFI to infill other species\n",
    "\n",
    "\n",
    "There is NO GOOD REASON why the infiller database shouldn't be public."
   ]
  },
  {
   "cell_type": "code",
   "execution_count": null,
   "id": "2351ba14",
   "metadata": {},
   "outputs": [],
   "source": [
    "import multiprocessing\n",
    "import warnings\n",
    "\n",
    "import matplotlib.pyplot as pl\n",
    "import numpy as np\n",
    "import pandas as pd\n",
    "import psutil\n",
    "import pooch\n",
    "import pyam\n",
    "import silicone.database_crunchers\n",
    "from silicone.stats import rolling_window_find_quantiles\n",
    "from silicone import multiple_infillers#.decompose_collection_with_time_dep_ratio.DecomposeCollectionTimeDepRatio\n",
    "from silicone.utils import return_cases_which_consistently_split\n",
    "from tqdm.auto import tqdm"
   ]
  },
  {
   "cell_type": "code",
   "execution_count": null,
   "id": "bcf064bf",
   "metadata": {},
   "outputs": [],
   "source": [
    "WORKERS = multiprocessing.cpu_count()"
   ]
  },
  {
   "cell_type": "code",
   "execution_count": null,
   "id": "e0242570",
   "metadata": {},
   "outputs": [],
   "source": [
    "silicone.__version__"
   ]
  },
  {
   "cell_type": "code",
   "execution_count": null,
   "id": "4f8e5f64",
   "metadata": {},
   "outputs": [],
   "source": [
    "pyam.__version__"
   ]
  },
  {
   "cell_type": "code",
   "execution_count": null,
   "id": "a7728c1c",
   "metadata": {},
   "outputs": [],
   "source": [
    "# # this is so slow, I saved the data in a binary format\n",
    "# df = pd.read_excel('../data_input/20220314_ar6emissions_harmonized_infilled.xlsx')\n",
    "# df.to_pickle('../data_input/20220314_ar6emissions_harmonized_infilled.pkl')"
   ]
  },
  {
   "cell_type": "code",
   "execution_count": null,
   "id": "3406095e",
   "metadata": {},
   "outputs": [],
   "source": [
    "# this file isn't public, but we want it to be : place on Zenodo, point all to Kikstra et al citation\n",
    "# also, why is reading this in so painful?\n",
    "df = pd.read_pickle('../data_input/20220314_ar6emissions_harmonized_infilled.pkl')\n",
    "infiller_database = pyam.IamDataFrame(df)"
   ]
  },
  {
   "cell_type": "code",
   "execution_count": null,
   "id": "c0be454c",
   "metadata": {},
   "outputs": [],
   "source": [
    "infiller_database.timeseries()"
   ]
  },
  {
   "cell_type": "code",
   "execution_count": null,
   "id": "6c128ed2",
   "metadata": {},
   "outputs": [],
   "source": [
    "infiller_database = infiller_database.filter(variable=\"AR6 climate diagnostics|Infilled|Emissions|*\")"
   ]
  },
  {
   "cell_type": "code",
   "execution_count": null,
   "id": "c1473a43",
   "metadata": {},
   "outputs": [],
   "source": [
    "df_scens = pd.read_csv('../data_input/ar6_model_scenario_passed_vetting.csv')\n",
    "model_scen_pairs = []\n",
    "for irow, row in df_scens.iterrows():\n",
    "    model_scen_pairs.append((row['model'], row['scenario']))\n",
    "model_scen_pairs = sorted(model_scen_pairs)"
   ]
  },
  {
   "cell_type": "code",
   "execution_count": null,
   "id": "a768c1cd",
   "metadata": {},
   "outputs": [],
   "source": [
    "the_slowness = []\n",
    "\n",
    "for model, scen in tqdm(model_scen_pairs):\n",
    "    the_slowness.append(infiller_database.filter(model=model, scenario=scen))\n",
    "\n",
    "infiller_database = pyam.concat(the_slowness)"
   ]
  },
  {
   "cell_type": "code",
   "execution_count": null,
   "id": "79cc09a0",
   "metadata": {},
   "outputs": [],
   "source": [
    "infiller_database.add(\n",
    "    \"AR6 climate diagnostics|Infilled|Emissions|CO2|AFOLU\", \n",
    "    \"AR6 climate diagnostics|Infilled|Emissions|CO2|Energy and Industrial Processes\", \n",
    "    \"AR6 climate diagnostics|Infilled|Emissions|CO2\",\n",
    "    axis='variable', \n",
    "    fillna=None, \n",
    "    ignore_units='Mt CO2/yr',\n",
    "    append=True\n",
    ")"
   ]
  },
  {
   "cell_type": "code",
   "execution_count": null,
   "id": "7281dd96",
   "metadata": {},
   "outputs": [],
   "source": [
    "database_species = infiller_database.variable\n",
    "\n",
    "# Remove CH4 and N2O which are not being infilled\n",
    "database_species.remove('AR6 climate diagnostics|Infilled|Emissions|CH4')\n",
    "database_species.remove('AR6 climate diagnostics|Infilled|Emissions|N2O')\n",
    "\n",
    "# Remove species which do not vary\n",
    "database_species.remove('AR6 climate diagnostics|Infilled|Emissions|CCl4')\n",
    "database_species.remove('AR6 climate diagnostics|Infilled|Emissions|CFC11')\n",
    "database_species.remove('AR6 climate diagnostics|Infilled|Emissions|CFC113')\n",
    "database_species.remove('AR6 climate diagnostics|Infilled|Emissions|CFC114')\n",
    "database_species.remove('AR6 climate diagnostics|Infilled|Emissions|CFC115')\n",
    "database_species.remove('AR6 climate diagnostics|Infilled|Emissions|CFC12')\n",
    "\n",
    "# Remove species that are all zero\n",
    "database_species.remove('AR6 climate diagnostics|Infilled|Emissions|HFC|HFC245ca')\n",
    "database_species.remove('AR6 climate diagnostics|Infilled|Emissions|CH3CCl3')\n",
    "database_species.remove('AR6 climate diagnostics|Infilled|Emissions|Halon1202')\n",
    "\n",
    "# Remove aggregates\n",
    "database_species.remove('AR6 climate diagnostics|Infilled|Emissions|HFC')\n",
    "database_species.remove('AR6 climate diagnostics|Infilled|Emissions|PFC')\n",
    "database_species.remove('AR6 climate diagnostics|Infilled|Emissions|F-Gases')"
   ]
  },
  {
   "cell_type": "code",
   "execution_count": null,
   "id": "2204b2b7",
   "metadata": {},
   "outputs": [],
   "source": [
    "# zzzz\n",
    "dfs = []\n",
    "\n",
    "for sample in tqdm(range(1, 5)):\n",
    "    df_in = pd.read_csv('../data_processed/emissions_files/emissions%05d.csv' % sample, index_col=0)\n",
    "    co2 = df_in['CO2']\n",
    "    co2_data = pd.DataFrame(co2, index=np.arange(2020, 2101)) \n",
    "    dfs.append(\n",
    "        pyam.IamDataFrame(\n",
    "            co2_data.T*1000, \n",
    "            model=\"RFF-SP\",\n",
    "            scenario=\"{:05d}\".format(sample),\n",
    "            region=\"World\",\n",
    "            unit=\"Mt CO2/yr\",\n",
    "            variable='AR6 climate diagnostics|Infilled|Emissions|CO2',\n",
    "        )\n",
    "    )"
   ]
  },
  {
   "cell_type": "code",
   "execution_count": null,
   "id": "efc1b2d1",
   "metadata": {},
   "outputs": [],
   "source": [
    "# this is unbearable\n",
    "\n",
    "with warnings.catch_warnings():\n",
    "    warnings.simplefilter(\"ignore\")\n",
    "    pyam_co2_data = pyam.concat(dfs)\n",
    "pyam_co2_data.timeseries()"
   ]
  },
  {
   "cell_type": "code",
   "execution_count": null,
   "id": "79d0f960",
   "metadata": {},
   "outputs": [],
   "source": [
    "components = [\n",
    "    \"AR6 climate diagnostics|Infilled|Emissions|CO2|Energy and Industrial Processes\",\n",
    "    \"AR6 climate diagnostics|Infilled|Emissions|CO2|AFOLU\",\n",
    "]\n",
    "aggregate = \"AR6 climate diagnostics|Infilled|Emissions|CO2\"\n",
    "to_infill = pyam_co2_data.filter(variable=aggregate)\n",
    "\n",
    "decomposer = multiple_infillers.DecomposeCollectionTimeDepRatio(infiller_database)\n",
    "results = decomposer.infill_components(aggregate, components, to_infill)"
   ]
  },
  {
   "cell_type": "code",
   "execution_count": null,
   "id": "5b748fd8",
   "metadata": {},
   "outputs": [],
   "source": [
    "results.timeseries()"
   ]
  },
  {
   "cell_type": "code",
   "execution_count": null,
   "id": "7dad082f",
   "metadata": {},
   "outputs": [],
   "source": [
    "database_species_except_total_co2 = [\n",
    "    specie for specie in database_species if specie not in [\n",
    "        \"AR6 climate diagnostics|Infilled|Emissions|CO2\",\n",
    "        \"AR6 climate diagnostics|Infilled|Emissions|CO2|Energy and Industrial Processes\",\n",
    "        \"AR6 climate diagnostics|Infilled|Emissions|CO2|AFOLU\",\n",
    "    ]\n",
    "]"
   ]
  },
  {
   "cell_type": "code",
   "execution_count": null,
   "id": "d11d4ab3",
   "metadata": {},
   "outputs": [],
   "source": [
    "# infilled = multiple_infillers.infill_all_required_variables(\n",
    "#     to_infill, database, [target], output_timesteps=list(range(2020, 2101, 10))\n",
    "# )"
   ]
  },
  {
   "cell_type": "code",
   "execution_count": null,
   "id": "7ff7c004",
   "metadata": {},
   "outputs": [],
   "source": [
    "pyam_emissions = []\n",
    "inner_list = []\n",
    "\n",
    "lead = [\"AR6 climate diagnostics|Infilled|Emissions|CO2\"]\n",
    "for sample in tqdm(range(1, 5)):\n",
    "    cruncher = silicone.database_crunchers.QuantileRollingWindows(infiller_database)\n",
    "    for follow in tqdm(database_species_except_total_co2, leave=False):\n",
    "        filler = cruncher.derive_relationship(follow, lead)  # the quantile could be randomly selected , quantile=quantiles[scen]\n",
    "        filler_input = pyam_co2_data.filter(\n",
    "            model=\"RFF-SP\", scenario=\"{:05d}\".format(sample)\n",
    "        )\n",
    "        filler_data = filler_input.filter(\n",
    "            year=infiller_database[\"year\"].unique(), variable=lead\n",
    "        )\n",
    "        qrw_infilled = filler(filler_data)\n",
    "        inner_list.append(qrw_infilled.filter(variable=follow))\n",
    "pyam_emissions = pyam.concat(inner_list)"
   ]
  },
  {
   "cell_type": "code",
   "execution_count": null,
   "id": "8febdc28",
   "metadata": {},
   "outputs": [],
   "source": [
    "def run_fair(args):\n",
    "    thisC, thisF, thisT, _, thisOHU, _, thisAF = fair.forward.fair_scm(**args)\n",
    "    return (\n",
    "        thisC[:,0], \n",
    "        thisF[:,31], \n",
    "        np.sum(thisF[:,35:40], axis=1),\n",
    "        thisF[:,40],\n",
    "        np.sum(thisF[:,:43], axis=1),\n",
    "        np.sum(thisF, axis=1),\n",
    "        thisT,\n",
    "        thisOHU,\n",
    "        thisAF\n",
    "    )\n",
    "\n",
    "if __name__ == '__main__':\n",
    "    with Pool(28) as pool:\n",
    "        result = list(tqdm(pool.imap(run_fair, arglist), total=SAMPLES))"
   ]
  },
  {
   "cell_type": "code",
   "execution_count": null,
   "id": "60e5dcff",
   "metadata": {},
   "outputs": [],
   "source": [
    "def run(sample):\n",
    "    inner_list = []\n",
    "\n",
    "    lead = [\"AR6 climate diagnostics|Infilled|Emissions|CO2\"]\n",
    "    cruncher = silicone.database_crunchers.QuantileRollingWindows(infiller_database)\n",
    "    for follow in tqdm(database_species_except_total_co2, leave=False):\n",
    "        filler = cruncher.derive_relationship(follow, lead)  # the quantile could be randomly selected , quantile=quantiles[scen]\n",
    "        filler_input = pyam_co2_data.filter(\n",
    "            model=\"RFF-SP\", scenario=\"{:05d}\".format(sample)\n",
    "        )\n",
    "        filler_data = filler_input.filter(\n",
    "            year=infiller_database[\"year\"].unique(), variable=lead\n",
    "        )\n",
    "        qrw_infilled = filler(filler_data)\n",
    "        inner_list.append(qrw_infilled.filter(variable=follow))\n",
    "    pyam_emissions = pyam.concat(inner_list)\n",
    "    return(pyam_emissions)"
   ]
  },
  {
   "cell_type": "code",
   "execution_count": null,
   "id": "49286f15",
   "metadata": {},
   "outputs": [],
   "source": [
    "if __name__ == '__main__':\n",
    "    with multiprocessing.Pool(WORKERS) as pool:\n",
    "        result = list(tqdm(pool.imap(run, np.arange(1, 5, dtype=int)), total=4))"
   ]
  },
  {
   "cell_type": "code",
   "execution_count": null,
   "id": "088a5c82",
   "metadata": {},
   "outputs": [],
   "source": [
    "pyam_emissions.timeseries()"
   ]
  },
  {
   "cell_type": "code",
   "execution_count": null,
   "id": "9b37e419",
   "metadata": {},
   "outputs": [],
   "source": [
    "pyam_emissions = pyam_emissions.append(results)"
   ]
  },
  {
   "cell_type": "code",
   "execution_count": null,
   "id": "c1a93c8b",
   "metadata": {},
   "outputs": [],
   "source": [
    "pyam_emissions.to_csv('../data_processed/infilled_emissions_scenarios.csv')"
   ]
  },
  {
   "cell_type": "code",
   "execution_count": null,
   "id": "624370de",
   "metadata": {},
   "outputs": [],
   "source": [
    "psutil.cpu_count(logical=False)"
   ]
  }
 ],
 "metadata": {
  "kernelspec": {
   "display_name": "Python 3 (ipykernel)",
   "language": "python",
   "name": "python3"
  },
  "language_info": {
   "codemirror_mode": {
    "name": "ipython",
    "version": 3
   },
   "file_extension": ".py",
   "mimetype": "text/x-python",
   "name": "python",
   "nbconvert_exporter": "python",
   "pygments_lexer": "ipython3",
   "version": "3.10.8"
  }
 },
 "nbformat": 4,
 "nbformat_minor": 5
}
