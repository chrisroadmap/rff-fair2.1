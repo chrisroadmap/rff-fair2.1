{
 "cells": [
  {
   "cell_type": "markdown",
   "id": "8a060cda",
   "metadata": {},
   "source": [
    "# Infill scenarios\n",
    "\n",
    "Use the SSP projections for non-CO2, non-CH4 and non-N2O emissions.\n",
    "\n",
    "Use CO2 as a lead variable. This might need a two-step infilling process:\n",
    "1. split CO2 into FFI and AFOLU\n",
    "2. use either total or FFI to infill other species"
   ]
  },
  {
   "cell_type": "code",
   "execution_count": null,
   "id": "2351ba14",
   "metadata": {},
   "outputs": [],
   "source": [
    "import silicone.database_crunchers\n",
    "from silicone.stats import rolling_window_find_quantiles\n",
    "from silicone.utils import (\n",
    "    _get_unit_of_variable,\n",
    "    find_matching_scenarios,\n",
    "    _make_interpolator,\n",
    "    _make_wide_db,\n",
    "    get_sr15_scenarios,\n",
    "    download_or_load_sr15,\n",
    ")"
   ]
  },
  {
   "cell_type": "code",
   "execution_count": null,
   "id": "2204b2b7",
   "metadata": {},
   "outputs": [],
   "source": []
  }
 ],
 "metadata": {
  "kernelspec": {
   "display_name": "Python 3 (ipykernel)",
   "language": "python",
   "name": "python3"
  },
  "language_info": {
   "codemirror_mode": {
    "name": "ipython",
    "version": 3
   },
   "file_extension": ".py",
   "mimetype": "text/x-python",
   "name": "python",
   "nbconvert_exporter": "python",
   "pygments_lexer": "ipython3",
   "version": "3.11.0"
  }
 },
 "nbformat": 4,
 "nbformat_minor": 5
}
