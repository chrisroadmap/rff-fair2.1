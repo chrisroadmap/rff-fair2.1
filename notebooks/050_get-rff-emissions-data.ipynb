{
 "cells": [
  {
   "cell_type": "markdown",
   "id": "f80dbd5d",
   "metadata": {},
   "source": [
    "# Notebook to download RFF-SP emissions for CO2, CH4 and N2O\n",
    "\n",
    "Note: this downloads a 1.7 GB file into the cache, but we only use the RFF emissions which are around 240 MB in total. If you want to save disk space, at the expense of downloading the file anew every time you run the script, uncomment the cells below \"Delete the zipfile from cache\"."
   ]
  },
  {
   "cell_type": "code",
   "execution_count": 1,
   "id": "bc761294",
   "metadata": {},
   "outputs": [],
   "source": [
    "import os\n",
    "import pathlib\n",
    "import zipfile\n",
    "\n",
    "from tqdm import tqdm\n",
    "\n",
    "import numpy as np\n",
    "import pooch\n",
    "import pandas as pd"
   ]
  },
  {
   "cell_type": "code",
   "execution_count": 2,
   "id": "3107a1db",
   "metadata": {},
   "outputs": [],
   "source": [
    "zf = pooch.retrieve(\n",
    "    \"https://zenodo.org/record/5898729/files/RFFSPs-Final.zip\",\n",
    "    known_hash = None,\n",
    "    progressbar=True,\n",
    ")"
   ]
  },
  {
   "cell_type": "code",
   "execution_count": 3,
   "id": "c5218efa",
   "metadata": {},
   "outputs": [],
   "source": [
    "os.makedirs('../data_input', exist_ok=True)"
   ]
  },
  {
   "cell_type": "code",
   "execution_count": 4,
   "id": "e26f7cbd",
   "metadata": {},
   "outputs": [],
   "source": [
    "# we don't want to commit these, so merge with notebook 100\n",
    "with zipfile.ZipFile(zf, mode='r') as z:\n",
    "    [z.extract(file, path=os.path.join('..', 'data_input')) for file in z.namelist() if 'emissions/' in file]\n",
    "    #z.extract(extract_files, path=os.path.join('..', 'data_input'))"
   ]
  },
  {
   "cell_type": "markdown",
   "id": "48c5d82c",
   "metadata": {},
   "source": [
    "## Delete the zipfile from cache"
   ]
  },
  {
   "cell_type": "code",
   "execution_count": 5,
   "id": "45dba839",
   "metadata": {},
   "outputs": [],
   "source": [
    "# for f in pooch.os_cache('pooch').glob('*RFFSPs-Final.zip'):\n",
    "#     os.remove(f)"
   ]
  }
 ],
 "metadata": {
  "kernelspec": {
   "display_name": "Python 3 (ipykernel)",
   "language": "python",
   "name": "python3"
  },
  "language_info": {
   "codemirror_mode": {
    "name": "ipython",
    "version": 3
   },
   "file_extension": ".py",
   "mimetype": "text/x-python",
   "name": "python",
   "nbconvert_exporter": "python",
   "pygments_lexer": "ipython3",
   "version": "3.11.0"
  }
 },
 "nbformat": 4,
 "nbformat_minor": 5
}
