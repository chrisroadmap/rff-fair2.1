{
 "cells": [
  {
   "cell_type": "markdown",
   "id": "f80dbd5d",
   "metadata": {},
   "source": [
    "# Notebook to download RFF-SP emissions for CO2, CH4 and N2O\n",
    "\n",
    "Note: this downloads a 1.7 GB file into the cache, but we only use the RFF emissions which are around 240 MB in total. If you want to save disk space, at the expense of downloading the file anew every time you run the script, uncomment the cells below \"Delete the zipfile from cache\"."
   ]
  },
  {
   "cell_type": "code",
   "execution_count": null,
   "id": "bc761294",
   "metadata": {},
   "outputs": [],
   "source": [
    "import os\n",
    "import pathlib\n",
    "import zipfile\n",
    "\n",
    "import matplotlib.pyplot as pl\n",
    "import numpy as np\n",
    "import pooch\n",
    "import pandas as pd\n",
    "from tqdm.auto import tqdm"
   ]
  },
  {
   "cell_type": "code",
   "execution_count": null,
   "id": "3107a1db",
   "metadata": {},
   "outputs": [],
   "source": [
    "zf = pooch.retrieve(\n",
    "    \"https://zenodo.org/record/5898729/files/RFFSPs-Final.zip\",\n",
    "    known_hash = None,\n",
    "    progressbar=True,\n",
    ")"
   ]
  },
  {
   "cell_type": "code",
   "execution_count": null,
   "id": "c5218efa",
   "metadata": {},
   "outputs": [],
   "source": [
    "os.makedirs('../data_input', exist_ok=True)"
   ]
  },
  {
   "cell_type": "code",
   "execution_count": null,
   "id": "e26f7cbd",
   "metadata": {},
   "outputs": [],
   "source": [
    "# we don't want to commit these, so merge with notebook 100\n",
    "with zipfile.ZipFile(zf, mode='r') as z:\n",
    "    [z.extract(file, path=os.path.join('..', 'data_input')) for file in z.namelist() if 'emissions/' in file]\n",
    "    #z.extract(extract_files, path=os.path.join('..', 'data_input'))"
   ]
  },
  {
   "cell_type": "markdown",
   "id": "48c5d82c",
   "metadata": {},
   "source": [
    "## Delete the zipfile from cache"
   ]
  },
  {
   "cell_type": "code",
   "execution_count": null,
   "id": "45dba839",
   "metadata": {},
   "outputs": [],
   "source": [
    "# for f in pooch.os_cache('pooch').glob('*RFFSPs-Final.zip'):\n",
    "#     os.remove(f)"
   ]
  },
  {
   "cell_type": "markdown",
   "id": "58c1f59c",
   "metadata": {},
   "source": [
    "## Process the RFF files into a format easier for FaIR to deal with\n",
    "\n",
    "We also want to attach the RCMIP/CMIP6 historical emissions on to this, so while we're at it, we'll download the SSP emissions from RCMIP.\n",
    "\n",
    "I believe that RFF used SSP2-4.5 between 2015 and 2020. **TODO** ask Marcus or re-read the Rennert paper"
   ]
  },
  {
   "cell_type": "code",
   "execution_count": null,
   "id": "a5359669",
   "metadata": {},
   "outputs": [],
   "source": [
    "df_co2 = pd.read_csv('../data_input/emissions/rffsp_co2_emissions.csv')\n",
    "df_ch4 = pd.read_csv('../data_input/emissions/rffsp_ch4_emissions.csv')\n",
    "df_n2o = pd.read_csv('../data_input/emissions/rffsp_n2o_emissions.csv')"
   ]
  },
  {
   "cell_type": "code",
   "execution_count": null,
   "id": "bc5b3335",
   "metadata": {},
   "outputs": [],
   "source": [
    "ssp_emissions = pooch.retrieve(\n",
    "    \"https://zenodo.org/record/4589756/files/rcmip-emissions-annual-means-v5-1-0.csv\",\n",
    "    \"md5:4044106f55ca65b094670e7577eaf9b3\"\n",
    ")"
   ]
  },
  {
   "cell_type": "code",
   "execution_count": null,
   "id": "5ff293bf",
   "metadata": {},
   "outputs": [],
   "source": [
    "df_ssp = pd.read_csv(ssp_emissions)"
   ]
  },
  {
   "cell_type": "code",
   "execution_count": null,
   "id": "a8e8dea8",
   "metadata": {},
   "outputs": [],
   "source": [
    "co2_hist = df_ssp.loc[(df_ssp['Region']=='World')&(df_ssp['Scenario']=='ssp245')&(df_ssp['Variable']=='Emissions|CO2'),'1750':'2020'].interpolate(axis=1).values.squeeze()\n",
    "ch4_hist = df_ssp.loc[(df_ssp['Region']=='World')&(df_ssp['Scenario']=='ssp245')&(df_ssp['Variable']=='Emissions|CH4'),'1750':'2020'].interpolate(axis=1).values.squeeze()\n",
    "n2o_hist = df_ssp.loc[(df_ssp['Region']=='World')&(df_ssp['Scenario']=='ssp245')&(df_ssp['Variable']=='Emissions|N2O'),'1750':'2020'].interpolate(axis=1).values.squeeze()"
   ]
  },
  {
   "cell_type": "code",
   "execution_count": null,
   "id": "59d35389",
   "metadata": {},
   "outputs": [],
   "source": [
    "df_co2"
   ]
  },
  {
   "cell_type": "code",
   "execution_count": null,
   "id": "a2ce6c8a",
   "metadata": {},
   "outputs": [],
   "source": [
    "os.makedirs('../data_processed/emissions_files', exist_ok=True)"
   ]
  },
  {
   "cell_type": "code",
   "execution_count": null,
   "id": "259cc1df",
   "metadata": {},
   "outputs": [],
   "source": [
    "# would be slightly better to load in default molwts from fair, and much better to use fair's inbuilt\n",
    "# unit converter\n",
    "molwt_co2 = 44.009\n",
    "molwt_c   = 12.011\n",
    "molwt_n2o = 44.013\n",
    "molwt_n2  = 28.014\n",
    "mt_to_gt  = 0.001\n",
    "\n",
    "for sample in tqdm(range(1, 10001)):\n",
    "    emissions = np.zeros((551, 3))\n",
    "    co2 = df_co2[df_co2['sample']==sample].value.values\n",
    "    ch4 = df_ch4[df_ch4['sample']==sample].value.values\n",
    "    n2o = df_n2o[df_n2o['sample']==sample].value.values\n",
    "    emissions[:270, 0] = co2_hist[:-1] * mt_to_gt\n",
    "    emissions[:270, 1] = ch4_hist[:-1]\n",
    "    emissions[:270, 2] = n2o_hist[:-1] * mt_to_gt\n",
    "    emissions[270:, 0] = co2 * molwt_co2 / molwt_c\n",
    "    emissions[270:, 1] = ch4\n",
    "    emissions[270:, 2] = n2o * molwt_n2o / molwt_n2\n",
    "    df_out = pd.DataFrame(emissions, columns=['CO2', 'CH4', 'N2O'], index=range(1750,2301))\n",
    "    df_out.to_csv('../data_processed/emissions_files/emissions%05d.csv' % sample)"
   ]
  },
  {
   "cell_type": "code",
   "execution_count": null,
   "id": "f10f2d64",
   "metadata": {},
   "outputs": [],
   "source": [
    "pl.plot(np.arange(1750, 2301), emissions[:,0], label='CO2 (GtCO2)')\n",
    "pl.plot(np.arange(1750, 2301), emissions[:,1], label='CH4 (MtCH4)')\n",
    "pl.plot(np.arange(1750, 2301), emissions[:,2], label='N2O (MtN2O)')\n",
    "pl.legend()"
   ]
  },
  {
   "cell_type": "markdown",
   "id": "088c53ae",
   "metadata": {},
   "source": [
    "## Remove intermediate RFF datafiles\n",
    "\n",
    "Reclaim 240 MB"
   ]
  },
  {
   "cell_type": "code",
   "execution_count": null,
   "id": "19d82b6f",
   "metadata": {},
   "outputs": [],
   "source": [
    "os.remove('../data_input/emissions/rffsp_co2_emissions.csv')\n",
    "os.remove('../data_input/emissions/rffsp_ch4_emissions.csv')\n",
    "os.remove('../data_input/emissions/rffsp_n2o_emissions.csv')\n",
    "os.removedirs('../data_input/emissions')"
   ]
  },
  {
   "cell_type": "code",
   "execution_count": null,
   "id": "c1bf8323",
   "metadata": {},
   "outputs": [],
   "source": []
  }
 ],
 "metadata": {
  "kernelspec": {
   "display_name": "Python 3 (ipykernel)",
   "language": "python",
   "name": "python3"
  },
  "language_info": {
   "codemirror_mode": {
    "name": "ipython",
    "version": 3
   },
   "file_extension": ".py",
   "mimetype": "text/x-python",
   "name": "python",
   "nbconvert_exporter": "python",
   "pygments_lexer": "ipython3",
   "version": "3.10.8"
  }
 },
 "nbformat": 4,
 "nbformat_minor": 5
}
