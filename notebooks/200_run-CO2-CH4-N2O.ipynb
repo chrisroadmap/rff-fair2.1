{
 "cells": [
  {
   "cell_type": "markdown",
   "id": "ae8f2073",
   "metadata": {},
   "source": [
    "# Run 2.1 with just CO2, CH4, N2O for now"
   ]
  },
  {
   "cell_type": "code",
   "execution_count": null,
   "id": "ffc6d3b1",
   "metadata": {},
   "outputs": [],
   "source": [
    "from fair import FAIR\n",
    "\n",
    "from tqdm.autonotebook import tqdm\n",
    "import numpy as np\n",
    "import pandas as pd\n",
    "import copy"
   ]
  },
  {
   "cell_type": "code",
   "execution_count": null,
   "id": "c23f0c59",
   "metadata": {},
   "outputs": [],
   "source": [
    "n_scen = 100  # 10000 in full run"
   ]
  },
  {
   "cell_type": "code",
   "execution_count": null,
   "id": "10b36024",
   "metadata": {},
   "outputs": [],
   "source": [
    "species_ids = {}\n",
    "species_ids['co2_ffi'] = SpeciesID('CO2 Fossil fuel and industrial', Category.CO2_FFI, RunMode.EMISSIONS)\n",
    "species_ids['co2_afolu'] = SpeciesID('CO2 AFOLU', Category.CO2_AFOLU, RunMode.EMISSIONS)\n",
    "species_ids['co2'] = SpeciesID('CO2', Category.CO2, RunMode.FROM_OTHER_SPECIES)\n",
    "species_ids['ch4'] = SpeciesID('CH4', Category.CH4, RunMode.EMISSIONS)\n",
    "species_ids['n2o'] = SpeciesID('N2O', Category.N2O, RunMode.EMISSIONS)"
   ]
  },
  {
   "cell_type": "code",
   "execution_count": null,
   "id": "e545e0b6",
   "metadata": {},
   "outputs": [],
   "source": [
    "species = {}\n",
    "\n",
    "co2 = np.zeros((551, n_scen))\n",
    "\n",
    "for sample in tqdm(range(1, n_scen+1)):\n",
    "    df = pd.read_csv('../data_processed/emissions_files/emissions%05d.csv' % sample, index_col=0)\n",
    "    co2[:, sample-1] = df['CO2'].values\n",
    "    # remember the order!\n",
    "    species[sample] = [\n",
    "        Species(species_ids['co2_ffi'], emissions=df['CO2'].values),\n",
    "        Species(species_ids['co2_afolu'], emissions=np.zeros(551)),\n",
    "        Species(species_ids['co2']),\n",
    "        Species(species_ids['ch4'], emissions=df['CH4'].values),\n",
    "        Species(species_ids['n2o'], emissions=df['N2O'].values),\n",
    "    ]"
   ]
  },
  {
   "cell_type": "code",
   "execution_count": null,
   "id": "e1a12af7",
   "metadata": {},
   "outputs": [],
   "source": [
    "pl.plot(np.arange(1750, 2301), np.median(co2, axis=1))"
   ]
  },
  {
   "cell_type": "code",
   "execution_count": null,
   "id": "69ed958e",
   "metadata": {},
   "outputs": [],
   "source": [
    "species[1][3]"
   ]
  },
  {
   "cell_type": "markdown",
   "id": "07358a69",
   "metadata": {},
   "source": [
    "## Defining Scenarios\n",
    "\n",
    "We have declared all of our `Species`, and we now need to formally assign them to `Scenario`s in the code."
   ]
  },
  {
   "cell_type": "markdown",
   "id": "6f926186",
   "metadata": {},
   "source": [
    "`scenarios` go into `fair` as a list, and we can take a peek at what our `Scenario` actually looks like to FaIR."
   ]
  },
  {
   "cell_type": "code",
   "execution_count": null,
   "id": "e70c9337",
   "metadata": {},
   "outputs": [],
   "source": [
    "scenarios = []\n",
    "for scenario in tqdm(range(1, n_scen+1)):\n",
    "    scenarios.append(Scenario(scenario, species[scenario]))"
   ]
  },
  {
   "cell_type": "markdown",
   "id": "80937b55",
   "metadata": {},
   "source": [
    "## The Configs\n",
    "\n",
    "`Scenario`s define what goes into the model, but `Config`s define the model behaviour. There are two types of configs (well, actually three if you include the overall run configs, but these are defined at the top level and we'll revisit these later):\n",
    "\n",
    "1. `ClimateResponse` defines the climate sensitivity, ocean heat capacities, heat transfer coefficient, etc. It defines how forcing is converted to temperature in the model. Only one `ClimateResponse` per config should be defined.\n",
    "2. `SpeciesConfig` defines things such as greenhouse gas lifetimes, radiative forcing efficacy, gas cycle airborne fraction, and many other things. It has a lot of options, and a lot of flexibility. A list containing a `SpeciesConfig` for each defined species in the scenarios needs to be provided.\n",
    "\n",
    "`Config`s are defined as follows:\n",
    "\n",
    "```\n",
    "config = Config(name, climate_response, species_configs)\n",
    "```\n",
    "\n",
    "We then provide a list of configs to FaIR."
   ]
  },
  {
   "cell_type": "markdown",
   "id": "724e454d",
   "metadata": {},
   "source": [
    "In this example, we'll provide three configs representing high, medium and low climate sensitivity climate models, and also vary the `SpeciesConfig` in each to provide some variation in the carbon cycle feedbacks and the strength of the aerosol forcing."
   ]
  },
  {
   "cell_type": "markdown",
   "id": "21591c03",
   "metadata": {},
   "source": [
    "### Climate response\n",
    "\n",
    "We'll start with the climate response which is slightly easier. This is an $n$-box energy balance model, where $n=3$ by default (this can be changed in the `RunConfig`). "
   ]
  },
  {
   "cell_type": "code",
   "execution_count": null,
   "id": "c942e9f0",
   "metadata": {},
   "outputs": [],
   "source": [
    "accept = np.loadtxt('../../data/ar6_ensemble_batches/final.csv', dtype=int)"
   ]
  },
  {
   "cell_type": "code",
   "execution_count": null,
   "id": "fb544ebc",
   "metadata": {},
   "outputs": [],
   "source": [
    "co2_pi = pd.read_csv('../../data/parameter_sets/co2_concentration_1750.csv').loc[accept]\n",
    "co2_pi"
   ]
  },
  {
   "cell_type": "code",
   "execution_count": null,
   "id": "10b7e65e",
   "metadata": {},
   "outputs": [],
   "source": [
    "cc = pd.read_csv('../../data/parameter_sets/carbon_cycle.csv').loc[accept]\n",
    "cc"
   ]
  },
  {
   "cell_type": "code",
   "execution_count": null,
   "id": "87e2cfc6",
   "metadata": {},
   "outputs": [],
   "source": [
    "cr = pd.read_csv('../../data/parameter_sets/climate_response.csv').loc[accept]\n",
    "cr"
   ]
  },
  {
   "cell_type": "code",
   "execution_count": null,
   "id": "eb6faa49",
   "metadata": {},
   "outputs": [],
   "source": [
    "calibrated_f4co2_mean = cr['F_4xCO2'].loc[accept].mean()\n",
    "calibrated_f4co2_mean"
   ]
  },
  {
   "cell_type": "code",
   "execution_count": null,
   "id": "c319bb04",
   "metadata": {},
   "outputs": [],
   "source": [
    "scale = pd.read_csv('../../data/parameter_sets/forcing_scaling.csv').loc[accept]\n",
    "scale"
   ]
  },
  {
   "cell_type": "code",
   "execution_count": null,
   "id": "bf4aeda2",
   "metadata": {},
   "outputs": [],
   "source": [
    "cr['c1']"
   ]
  },
  {
   "cell_type": "code",
   "execution_count": null,
   "id": "6433b4f9",
   "metadata": {},
   "outputs": [],
   "source": [
    "climate_response = {}\n",
    "for config_label in range(1001):\n",
    "    climate_response[config_label] = ClimateResponse(\n",
    "        ocean_heat_capacity = np.array([cr['c1'].iloc[config_label], cr['c2'].iloc[config_label], cr['c3'].iloc[config_label]]),\n",
    "        ocean_heat_transfer = np.array([cr['kappa1'].iloc[config_label], cr['kappa2'].iloc[config_label], cr['kappa3'].iloc[config_label]]),\n",
    "        deep_ocean_efficacy = cr['epsilon'].iloc[config_label],\n",
    "        stochastic_run = True, #False\n",
    "        sigma_eta = cr['sigma_eta'].iloc[config_label],\n",
    "        sigma_xi = cr['sigma_xi'].iloc[config_label],\n",
    "        seed = config_label * 780 + 13\n",
    "    )"
   ]
  },
  {
   "cell_type": "markdown",
   "id": "094a23bd",
   "metadata": {},
   "source": [
    "### Species configuration\n",
    "\n",
    "There are a lot of options - but only a few per species are used. And to make things easier, the `default_species_config` module contains many really useful defaults."
   ]
  },
  {
   "cell_type": "code",
   "execution_count": null,
   "id": "80a2af35",
   "metadata": {},
   "outputs": [],
   "source": [
    "species_ids"
   ]
  },
  {
   "cell_type": "markdown",
   "id": "4113bac3",
   "metadata": {},
   "source": [
    "<div class=\"alert alert-block alert-warning\">\n",
    "It's really important to use `copy` here, otherwise we are just creating multiple references to the default dict.\n",
    "</div>"
   ]
  },
  {
   "cell_type": "code",
   "execution_count": null,
   "id": "3954b271",
   "metadata": {},
   "outputs": [],
   "source": [
    "species_configs = {}\n",
    "\n",
    "for config_label in range(1001):\n",
    "    species_configs[config_label] = []\n",
    "    for species_label in ['co2_ffi', 'co2_afolu', 'co2', 'ch4', 'n2o']:\n",
    "        # use copy here!\n",
    "        species_configs[config_label].append(copy.copy(default_species_config[species_label]))\n",
    "        # the defaults also contain the SpeciesID that has a default name and run mode. We want to override this.\n",
    "        species_configs[config_label][-1].species_id = species_ids[species_label]"
   ]
  },
  {
   "cell_type": "markdown",
   "id": "0eb9b8f8",
   "metadata": {},
   "source": [
    "#### Modify carbon cycle configs\n",
    "\n",
    "In small problems like this you might be able to remember the indices of each specie, but in case you need a reminder - and this is very useful for big problems such as a full CMIP6 run:"
   ]
  },
  {
   "cell_type": "code",
   "execution_count": null,
   "id": "85e17c91",
   "metadata": {},
   "outputs": [],
   "source": [
    "for ispecconf in range(len(species_configs[config_label])):\n",
    "    print (ispecconf, species_configs[config_label][ispecconf].species_id.name)"
   ]
  },
  {
   "cell_type": "markdown",
   "id": "30dab761",
   "metadata": {},
   "source": [
    "So if we want to modify the carbon cycle, we have to modify the properties in `SpeciesConfig` of CO2, which is list element number 2.\n",
    "\n",
    "First, let's examine the defaults:"
   ]
  },
  {
   "cell_type": "code",
   "execution_count": null,
   "id": "ee7dfe2c",
   "metadata": {},
   "outputs": [],
   "source": [
    "for config_label in range(1001):\n",
    "    # Carbon cycle\n",
    "    species_configs[config_label][2].iirf_0 = cc['r0'].iloc[config_label]\n",
    "    species_configs[config_label][2].iirf_airborne = cc['rA'].iloc[config_label]\n",
    "    species_configs[config_label][2].iirf_cumulative = cc['rC'].iloc[config_label]\n",
    "    species_configs[config_label][2].iirf_temperature = cc['rT'].iloc[config_label]\n",
    "    species_configs[config_label][2].baseline_concentration = co2_pi['co2_concentration'].iloc[config_label]\n",
    "    \n",
    "    # Scale factors for forcing\n",
    "    species_configs[config_label][2].scale = 1 + 0.561 * (calibrated_f4co2_mean - cr['F_4xCO2'].iloc[config_label])/calibrated_f4co2_mean\n",
    "    species_configs[config_label][3].scale = scale['CH4'].iloc[config_label]\n",
    "    species_configs[config_label][4].scale = scale['N2O'].iloc[config_label]"
   ]
  },
  {
   "cell_type": "markdown",
   "id": "207dae45",
   "metadata": {},
   "source": [
    "### now, let's assign to Configs"
   ]
  },
  {
   "cell_type": "code",
   "execution_count": null,
   "id": "3d60bb2e",
   "metadata": {},
   "outputs": [],
   "source": [
    "configs = []\n",
    "for config_label in range(1001):\n",
    "    configs.append(Config(config_label, climate_response[config_label], species_configs[config_label]))"
   ]
  },
  {
   "cell_type": "markdown",
   "id": "ce8943dc",
   "metadata": {},
   "source": [
    "## Now, we can run FaIR"
   ]
  },
  {
   "cell_type": "code",
   "execution_count": null,
   "id": "36d76fac",
   "metadata": {},
   "outputs": [],
   "source": [
    "from fair21 import FAIR"
   ]
  },
  {
   "cell_type": "code",
   "execution_count": null,
   "id": "dfa3d2a2",
   "metadata": {},
   "outputs": [],
   "source": [
    "timestep = 1  # not required, but demonstrated\n",
    "fair = FAIR(scenarios, configs, timestep)"
   ]
  },
  {
   "cell_type": "code",
   "execution_count": null,
   "id": "b0e31516",
   "metadata": {},
   "outputs": [],
   "source": [
    "fair.run(progress=True)"
   ]
  },
  {
   "cell_type": "code",
   "execution_count": null,
   "id": "81bd48cd",
   "metadata": {},
   "outputs": [],
   "source": [
    "fair.temperature.shape"
   ]
  },
  {
   "cell_type": "code",
   "execution_count": null,
   "id": "a602dae4",
   "metadata": {},
   "outputs": [],
   "source": [
    "df_ssp_median=pd.read_csv('../../data/ar6_ensemble_batches/ssp_median_temperature.csv', index_col=0)"
   ]
  },
  {
   "cell_type": "code",
   "execution_count": null,
   "id": "0d41a4b3",
   "metadata": {},
   "outputs": [],
   "source": [
    "pl.fill_between(\n",
    "    np.arange(1750, 2301), \n",
    "    np.percentile(fair.temperature[:,:,:,0,0] - fair.temperature[100:151,:,:,0,0].mean(axis=0), 1, axis=(1,2)),\n",
    "    np.percentile(fair.temperature[:,:,:,0,0] - fair.temperature[100:151,:,:,0,0].mean(axis=0), 99, axis=(1,2)),\n",
    "    color='0.9'\n",
    ")\n",
    "pl.fill_between(\n",
    "    np.arange(1750, 2301), \n",
    "    np.percentile(fair.temperature[:,:,:,0,0] - fair.temperature[100:151,:,:,0,0].mean(axis=0), 5, axis=(1,2)),\n",
    "    np.percentile(fair.temperature[:,:,:,0,0] - fair.temperature[100:151,:,:,0,0].mean(axis=0), 95, axis=(1,2)),\n",
    "    color='0.8'\n",
    ")\n",
    "pl.plot(\n",
    "    np.arange(1750, 2301), \n",
    "    np.percentile(fair.temperature[:,:,:,0,0] - fair.temperature[100:151,:,:,0,0].mean(axis=0), 50, axis=(1,2)),\n",
    "    color='k',\n",
    "    label='RFF median'\n",
    ")\n",
    "pl.plot(\n",
    "    np.arange(1750, 2301),\n",
    "    df_ssp_median['ssp126'],\n",
    "    color='blue',\n",
    "    label='ssp126'\n",
    ")\n",
    "pl.plot(\n",
    "    np.arange(1750, 2301),\n",
    "    df_ssp_median['ssp245'],\n",
    "    color='orange',\n",
    "    label='ssp245'\n",
    ")\n",
    "pl.plot(\n",
    "    np.arange(1750, 2301),\n",
    "    df_ssp_median['ssp370'],\n",
    "    color='red',\n",
    "    label='ssp370'\n",
    ")\n",
    "pl.plot(\n",
    "    np.arange(1750, 2301),\n",
    "    df_ssp_median['ssp585'],\n",
    "    color='purple',\n",
    "    label='ssp585'\n",
    ")\n",
    "\n",
    "pl.title('RFF first 100 scenarios: temperature')\n",
    "pl.xlabel('year')\n",
    "pl.ylabel('Temperature anomaly (K)')\n",
    "pl.legend(loc='upper left')\n",
    "pl.xlim(2000, 2300)"
   ]
  },
  {
   "cell_type": "code",
   "execution_count": null,
   "id": "73f803f6",
   "metadata": {},
   "outputs": [],
   "source": [
    "pl.fill_between(\n",
    "    np.arange(1750, 2301), \n",
    "    np.percentile(fair.concentration_array[:,:,:,2,0], 5, axis=(1,2)),\n",
    "    np.percentile(fair.concentration_array[:,:,:,2,0], 95, axis=(1,2)),\n",
    "    color='0.8'\n",
    ")\n",
    "pl.plot(\n",
    "    np.arange(1750, 2301), \n",
    "    np.percentile(fair.concentration_array[:,:,:,2,0], 50, axis=(1,2)),\n",
    "    color='k'\n",
    ")\n",
    "pl.title('RFF first 100 scenarios: CO2 concentration')\n",
    "pl.xlabel('year')\n",
    "pl.ylabel('ppm')\n",
    "pl.xlim(2000, 2300)"
   ]
  },
  {
   "cell_type": "code",
   "execution_count": null,
   "id": "9ad63c93",
   "metadata": {},
   "outputs": [],
   "source": []
  }
 ],
 "metadata": {
  "kernelspec": {
   "display_name": "Python 3 (ipykernel)",
   "language": "python",
   "name": "python3"
  },
  "language_info": {
   "codemirror_mode": {
    "name": "ipython",
    "version": 3
   },
   "file_extension": ".py",
   "mimetype": "text/x-python",
   "name": "python",
   "nbconvert_exporter": "python",
   "pygments_lexer": "ipython3",
   "version": "3.10.6"
  }
 },
 "nbformat": 4,
 "nbformat_minor": 5
}
