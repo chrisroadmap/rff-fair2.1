{
 "cells": [
  {
   "cell_type": "markdown",
   "id": "ae8f2073",
   "metadata": {},
   "source": [
    "# Run 2.1 with just CO2, CH4, N2O for now"
   ]
  },
  {
   "cell_type": "code",
   "execution_count": null,
   "id": "ffc6d3b1",
   "metadata": {},
   "outputs": [],
   "source": [
    "from fair import FAIR\n",
    "from fair.interface import fill, initialise\n",
    "from fair.forcing.ghg import meinshausen2020\n",
    "\n",
    "from tqdm.autonotebook import tqdm\n",
    "import numpy as np\n",
    "import pandas as pd\n",
    "import copy\n",
    "import matplotlib.pyplot as pl"
   ]
  },
  {
   "cell_type": "code",
   "execution_count": null,
   "id": "aabfcf7e",
   "metadata": {},
   "outputs": [],
   "source": [
    "erf_2co2 = meinshausen2020(\n",
    "    np.array([554.30, 731.41, 273.87]) * np.ones((1, 1, 1, 3)),\n",
    "    np.array([277.15, 731.41, 273.87]) * np.ones((1, 1, 1, 3)),\n",
    "    np.array((1.05, 0.86, 1.07)) * np.ones((1, 1, 1, 1)),\n",
    "    np.ones((1, 1, 1, 3)),\n",
    "    np.array([True, False, False]),\n",
    "    np.array([False, True, False]),\n",
    "    np.array([False, False, True]),\n",
    "    np.array([False, False, False])\n",
    ").squeeze()[0]\n",
    "erf_2co2"
   ]
  },
  {
   "cell_type": "code",
   "execution_count": null,
   "id": "c23f0c59",
   "metadata": {},
   "outputs": [],
   "source": [
    "n_scen = 100  # 10000 in full run"
   ]
  },
  {
   "cell_type": "code",
   "execution_count": null,
   "id": "a6f4c7e0",
   "metadata": {},
   "outputs": [],
   "source": [
    "f = FAIR()"
   ]
  },
  {
   "cell_type": "code",
   "execution_count": null,
   "id": "9ab90aa6",
   "metadata": {},
   "outputs": [],
   "source": [
    "df_configs = pd.read_csv('../data_input/ar6_calibration_ebm3.csv', index_col=0)"
   ]
  },
  {
   "cell_type": "code",
   "execution_count": null,
   "id": "9c3dfde7",
   "metadata": {},
   "outputs": [],
   "source": [
    "configs = list(df_configs.index)"
   ]
  },
  {
   "cell_type": "code",
   "execution_count": null,
   "id": "af253ca7",
   "metadata": {},
   "outputs": [],
   "source": [
    "f.define_time(1750, 2301, 1)\n",
    "scenarios = list(range(1, n_scen+1))\n",
    "f.define_scenarios(scenarios)\n",
    "f.define_configs(configs)"
   ]
  },
  {
   "cell_type": "code",
   "execution_count": null,
   "id": "a0385542",
   "metadata": {},
   "outputs": [],
   "source": [
    "species = ['CO2', 'CH4', 'N2O']\n",
    "properties = {\n",
    "    'CO2': {\n",
    "        'type': 'co2',\n",
    "        'input_mode': 'emissions',\n",
    "        'greenhouse_gas': True,\n",
    "        'aerosol_chemistry_from_emissions': False,\n",
    "        'aerosol_chemistry_from_concentration': False,\n",
    "    },\n",
    "    'CH4': {\n",
    "        'type': 'ch4',\n",
    "        'input_mode': 'emissions',\n",
    "        'greenhouse_gas': True,\n",
    "        'aerosol_chemistry_from_emissions': False,\n",
    "        'aerosol_chemistry_from_concentration': False,  # since there's nothing else defined in the scenario for CH4 to affect\n",
    "    },\n",
    "    'N2O': {\n",
    "        'type': 'n2o',\n",
    "        'input_mode': 'emissions',\n",
    "        'greenhouse_gas': True,\n",
    "        'aerosol_chemistry_from_emissions': False,\n",
    "        'aerosol_chemistry_from_concentration': False,  # since there's nothing else defined in the scenario for N2O to affect\n",
    "    }\n",
    "}"
   ]
  },
  {
   "cell_type": "code",
   "execution_count": null,
   "id": "10b36024",
   "metadata": {},
   "outputs": [],
   "source": [
    "f.define_species(species, properties)"
   ]
  },
  {
   "cell_type": "code",
   "execution_count": null,
   "id": "05797fb5",
   "metadata": {},
   "outputs": [],
   "source": [
    "f.allocate()"
   ]
  },
  {
   "cell_type": "code",
   "execution_count": null,
   "id": "e545e0b6",
   "metadata": {},
   "outputs": [],
   "source": [
    "species = {}\n",
    "\n",
    "co2 = np.zeros((551, n_scen))\n",
    "\n",
    "for sample in tqdm(range(1, n_scen+1)):\n",
    "    df = pd.read_csv('../data_processed/emissions_files/emissions%05d.csv' % sample, index_col=0)\n",
    "    co2[:, sample-1] = df['CO2'].values\n",
    "    fill(f.emissions, df['CO2'].values.squeeze()[:,None], specie='CO2', scenario=sample)\n",
    "    fill(f.emissions, df['CH4'].values.squeeze()[:,None], specie='CH4', scenario=sample)\n",
    "    fill(f.emissions, df['N2O'].values.squeeze()[:,None], specie='N2O', scenario=sample)\n",
    "#     fill(f.emissions, )\n",
    "#     # remember the order!\n",
    "#     species[sample] = [\n",
    "#         Species(species_ids['co2_ffi'], emissions=df['CO2'].values),\n",
    "#         Species(species_ids['co2_afolu'], emissions=np.zeros(551)),\n",
    "#         Species(species_ids['co2']),\n",
    "#         Species(species_ids['ch4'], emissions=df['CH4'].values),\n",
    "#         Species(species_ids['n2o'], emissions=df['N2O'].values),\n",
    "#     ]"
   ]
  },
  {
   "cell_type": "code",
   "execution_count": null,
   "id": "e1a12af7",
   "metadata": {},
   "outputs": [],
   "source": [
    "pl.plot(np.arange(1750, 2301), np.median(co2, axis=1))"
   ]
  },
  {
   "cell_type": "code",
   "execution_count": null,
   "id": "bc09090f",
   "metadata": {},
   "outputs": [],
   "source": [
    "seed = 1355763 + 399 * np.array(configs)"
   ]
  },
  {
   "cell_type": "code",
   "execution_count": null,
   "id": "5148d028",
   "metadata": {},
   "outputs": [],
   "source": [
    "calibrated_f4co2_mean = df_configs['F_4xCO2'].mean()"
   ]
  },
  {
   "cell_type": "code",
   "execution_count": null,
   "id": "fb6a9555",
   "metadata": {},
   "outputs": [],
   "source": [
    "fill(f.climate_configs['ocean_heat_capacity'], df_configs.loc[configs, 'c1':'c3'].values)\n",
    "fill(f.climate_configs['ocean_heat_transfer'], df_configs.loc[configs, 'kappa1':'kappa3'].values)\n",
    "fill(f.climate_configs['deep_ocean_efficacy'], df_configs.loc[configs, 'epsilon'].values.squeeze())\n",
    "fill(f.climate_configs['gamma_autocorrelation'], df_configs.loc[configs, 'gamma'].values.squeeze())\n",
    "fill(f.climate_configs['sigma_eta'], df_configs.loc[configs, 'sigma_eta'].values.squeeze())\n",
    "fill(f.climate_configs['sigma_xi'], df_configs.loc[configs, 'sigma_xi'].values.squeeze())\n",
    "fill(f.climate_configs['seed'], seed)\n",
    "fill(f.climate_configs['stochastic_run'], True)\n",
    "fill(f.climate_configs['use_seed'], True)\n",
    "fill(f.climate_configs['forcing_4co2'], 2 * erf_2co2 * (1 + 0.561*(calibrated_f4co2_mean - df_configs.loc[configs,'F_4xCO2'])/calibrated_f4co2_mean))"
   ]
  },
  {
   "cell_type": "code",
   "execution_count": null,
   "id": "e9c3d20c",
   "metadata": {},
   "outputs": [],
   "source": [
    "f.climate_configs"
   ]
  },
  {
   "cell_type": "code",
   "execution_count": null,
   "id": "c942e9f0",
   "metadata": {},
   "outputs": [],
   "source": [
    "# species level\n",
    "f.fill_species_configs()\n",
    "\n",
    "# carbon cycle\n",
    "fill(f.species_configs['iirf_0'], df_configs.loc[configs, 'r0'].values.squeeze(), specie='CO2')\n",
    "fill(f.species_configs['iirf_airborne'], df_configs.loc[configs, 'rA'].values.squeeze(), specie='CO2')\n",
    "fill(f.species_configs['iirf_uptake'], df_configs.loc[configs, 'rU'].values.squeeze(), specie='CO2')\n",
    "fill(f.species_configs['iirf_temperature'], df_configs.loc[configs, 'rT'].values.squeeze(), specie='CO2')\n",
    "\n",
    "# # aerosol indirect\n",
    "# fill(f.species_configs['aci_scale'], df_configs.loc[configs, 'beta'].values.squeeze())\n",
    "# fill(f.species_configs['aci_shape'], df_configs.loc[configs, 'shape_so2'].values.squeeze(), specie='Sulfur')\n",
    "# fill(f.species_configs['aci_shape'], df_configs.loc[configs, 'shape_bc'].values.squeeze(), specie='BC')\n",
    "# fill(f.species_configs['aci_shape'], df_configs.loc[configs, 'shape_oc'].values.squeeze(), specie='OC')\n",
    "\n",
    "# # methane lifetime baseline\n",
    "# fill(f.species_configs['unperturbed_lifetime'], 10.4198121, specie='CH4')\n",
    "\n",
    "# emissions adjustments for N2O and CH4 (we don't want to make these defaults as people might wanna run pulse expts with these gases)\n",
    "fill(f.species_configs['baseline_emissions'], 19.019783117809567, specie='CH4')\n",
    "fill(f.species_configs['baseline_emissions'], 0.08602230754, specie='N2O')\n",
    "\n",
    "# # aerosol direct\n",
    "# for specie in df_ari:\n",
    "#     fill(f.species_configs['erfari_radiative_efficiency'], df_configs.loc[configs, specie], specie=specie)\n",
    "\n",
    "# # forcing\n",
    "# for specie in df_scaling:\n",
    "#     if specie in ['minorGHG', 'solar_amplitude', 'solar_trend', 'CO2', 'Volcanic']:\n",
    "#         continue\n",
    "#     fill(f.species_configs['forcing_scale'], df_configs.loc[configs, specie].values.squeeze(), specie=specie)\n",
    "# for specie in ['CFC-11', 'CFC-12', 'CFC-113', 'CFC-114', 'CFC-115', 'HCFC-22', 'HCFC-141b', 'HCFC-142b',\n",
    "#     'CCl4', 'CHCl3', 'CH2Cl2', 'CH3Cl', 'CH3CCl3', 'CH3Br', 'Halon-1211', 'Halon-1301', 'Halon-2402',\n",
    "#     'CF4', 'C2F6', 'C3F8', 'c-C4F8', 'C4F10', 'C5F12', 'C6F14', 'C7F16', 'C8F18', 'NF3', 'SF6', 'SO2F2',\n",
    "#     'HFC-125', 'HFC-134a', 'HFC-143a', 'HFC-152a', 'HFC-227ea', 'HFC-23', 'HFC-236fa', 'HFC-245fa', 'HFC-32',\n",
    "#     'HFC-365mfc', 'HFC-4310mee']:\n",
    "#     fill(f.species_configs['forcing_scale'], df_configs.loc[configs, 'minorGHG'].values.squeeze(), specie=specie)\n",
    "fill(f.species_configs['forcing_scale'], 1 + 0.561*(calibrated_f4co2_mean - df_configs.loc[configs,'F_4xCO2'].values)/calibrated_f4co2_mean, specie='CO2')\n",
    "fill(f.species_configs['forcing_scale'], df_configs.loc[configs, 'scale CH4'].values.squeeze(), specie='CH4')\n",
    "fill(f.species_configs['forcing_scale'], df_configs.loc[configs, 'scale N2O'].values.squeeze(), specie='N2O')\n",
    "\n",
    "# # ozone\n",
    "# for specie in df_ozone:\n",
    "#     fill(f.species_configs['ozone_radiative_efficiency'], df_configs.loc[configs, specie], specie=specie)\n",
    "\n",
    "# # tune down volcanic efficacy\n",
    "# fill(f.species_configs['forcing_efficacy'], 0.6, specie='Volcanic')\n",
    "\n",
    "\n",
    "# initial condition of CO2 concentration (but not baseline for forcing calculations)\n",
    "fill(f.species_configs['baseline_concentration'], df_configs.loc[configs, 'co2_concentration_1750'].values.squeeze(), specie='CO2')\n",
    "\n",
    "# initial conditions\n",
    "initialise(f.concentration, f.species_configs['baseline_concentration'])\n",
    "initialise(f.forcing, 0)\n",
    "initialise(f.temperature, 0)\n",
    "initialise(f.cumulative_emissions, 0)\n",
    "initialise(f.airborne_emissions, 0)"
   ]
  },
  {
   "cell_type": "code",
   "execution_count": null,
   "id": "875b0da3",
   "metadata": {},
   "outputs": [],
   "source": [
    "f.run()"
   ]
  },
  {
   "cell_type": "code",
   "execution_count": null,
   "id": "a602dae4",
   "metadata": {},
   "outputs": [],
   "source": [
    "# this file is out of date and needs to be remade\n",
    "df_ssp_median=pd.read_csv('../data_input/ssp_median_temperature.csv', index_col=0)"
   ]
  },
  {
   "cell_type": "code",
   "execution_count": null,
   "id": "0d41a4b3",
   "metadata": {},
   "outputs": [],
   "source": [
    "pl.fill_between(\n",
    "    f.timebounds, \n",
    "    np.percentile(f.temperature[...,0] - f.temperature[100:151,...,0].mean(axis=0), 1, axis=(1,2)),\n",
    "    np.percentile(f.temperature[...,0] - f.temperature[100:151,...,0].mean(axis=0), 99, axis=(1,2)),\n",
    "    color='0.9'\n",
    ")\n",
    "pl.fill_between(\n",
    "    f.timebounds, \n",
    "    np.percentile(f.temperature[...,0] - f.temperature[100:151,...,0].mean(axis=0), 5, axis=(1,2)),\n",
    "    np.percentile(f.temperature[...,0] - f.temperature[100:151,...,0].mean(axis=0), 95, axis=(1,2)),\n",
    "    color='0.8'\n",
    ")\n",
    "pl.plot(\n",
    "    f.timebounds, \n",
    "    np.percentile(f.temperature[...,0] - f.temperature[100:151,...,0].mean(axis=0), 50, axis=(1,2)),\n",
    "    color='k',\n",
    "    label='RFF median'\n",
    ")\n",
    "pl.plot(\n",
    "    np.arange(1750, 2301),\n",
    "    df_ssp_median['ssp126'],\n",
    "    color='blue',\n",
    "    label='ssp126'\n",
    ")\n",
    "pl.plot(\n",
    "    np.arange(1750, 2301),\n",
    "    df_ssp_median['ssp245'],\n",
    "    color='orange',\n",
    "    label='ssp245'\n",
    ")\n",
    "pl.plot(\n",
    "    np.arange(1750, 2301),\n",
    "    df_ssp_median['ssp370'],\n",
    "    color='red',\n",
    "    label='ssp370'\n",
    ")\n",
    "pl.plot(\n",
    "    np.arange(1750, 2301),\n",
    "    df_ssp_median['ssp585'],\n",
    "    color='purple',\n",
    "    label='ssp585'\n",
    ")\n",
    "\n",
    "pl.title('RFF first 100 scenarios: CO2, CH4, N2O only; temperature')\n",
    "pl.xlabel('year')\n",
    "pl.ylabel('Temperature anomaly (K)')\n",
    "pl.legend(loc='upper left')\n",
    "pl.xlim(2000, 2300)"
   ]
  },
  {
   "cell_type": "code",
   "execution_count": null,
   "id": "73f803f6",
   "metadata": {},
   "outputs": [],
   "source": [
    "pl.fill_between(\n",
    "    f.timebounds, \n",
    "    np.percentile(f.concentration[...,0], 5, axis=(1,2)),\n",
    "    np.percentile(f.concentration[...,0], 95, axis=(1,2)),\n",
    "    color='0.8'\n",
    ")\n",
    "pl.plot(\n",
    "    f.timebounds, \n",
    "    np.percentile(f.concentration[...,0], 50, axis=(1,2)),\n",
    "    color='k'\n",
    ")\n",
    "pl.title('RFF first 100 scenarios: CO2 concentration')\n",
    "pl.xlabel('year')\n",
    "pl.ylabel('ppm')\n",
    "pl.xlim(2000, 2300)"
   ]
  },
  {
   "cell_type": "code",
   "execution_count": null,
   "id": "9ad63c93",
   "metadata": {},
   "outputs": [],
   "source": [
    "pl.fill_between(\n",
    "    f.timebounds, \n",
    "    np.percentile(f.concentration[...,1], 5, axis=(1,2)),\n",
    "    np.percentile(f.concentration[...,1], 95, axis=(1,2)),\n",
    "    color='0.8'\n",
    ")\n",
    "pl.plot(\n",
    "    f.timebounds, \n",
    "    np.percentile(f.concentration[...,1], 50, axis=(1,2)),\n",
    "    color='k'\n",
    ")\n",
    "pl.title('RFF first 100 scenarios: CH4 concentration')\n",
    "pl.xlabel('year')\n",
    "pl.ylabel('ppm')\n",
    "pl.xlim(2000, 2300)"
   ]
  },
  {
   "cell_type": "code",
   "execution_count": null,
   "id": "332a9464",
   "metadata": {},
   "outputs": [],
   "source": [
    "pl.fill_between(\n",
    "    f.timebounds, \n",
    "    np.percentile(f.concentration[...,2], 5, axis=(1,2)),\n",
    "    np.percentile(f.concentration[...,2], 95, axis=(1,2)),\n",
    "    color='0.8'\n",
    ")\n",
    "pl.plot(\n",
    "    f.timebounds, \n",
    "    np.percentile(f.concentration[...,2], 50, axis=(1,2)),\n",
    "    color='k'\n",
    ")\n",
    "pl.title('RFF first 100 scenarios: N2O concentration')\n",
    "pl.xlabel('year')\n",
    "pl.ylabel('ppm')\n",
    "pl.xlim(2000, 2300)"
   ]
  }
 ],
 "metadata": {
  "kernelspec": {
   "display_name": "Python 3 (ipykernel)",
   "language": "python",
   "name": "python3"
  },
  "language_info": {
   "codemirror_mode": {
    "name": "ipython",
    "version": 3
   },
   "file_extension": ".py",
   "mimetype": "text/x-python",
   "name": "python",
   "nbconvert_exporter": "python",
   "pygments_lexer": "ipython3",
   "version": "3.10.6"
  }
 },
 "nbformat": 4,
 "nbformat_minor": 5
}
