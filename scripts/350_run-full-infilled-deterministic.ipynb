{
 "cells": [
  {
   "cell_type": "markdown",
   "id": "ae8f2073",
   "metadata": {},
   "source": [
    "# Run FaIR v2.1 with RFF scenarios\n",
    "\n",
    "- use all 10000 emissions scenarios\n",
    "- select 100 ensemble members at random per run\n",
    "- infill non-CO2, non-CH4, non-N2O with SSP2-4.5\n",
    "- stochastic variability is OFF"
   ]
  },
  {
   "cell_type": "code",
   "execution_count": null,
   "id": "ffc6d3b1",
   "metadata": {},
   "outputs": [],
   "source": [
    "from fair import FAIR\n",
    "from fair.interface import fill, initialise\n",
    "from fair.io import read_properties\n",
    "from fair.forcing.ghg import meinshausen2020\n",
    "\n",
    "from tqdm.autonotebook import tqdm\n",
    "import numpy as np\n",
    "import pandas as pd\n",
    "import copy\n",
    "import random\n",
    "import matplotlib.pyplot as pl\n",
    "import xarray as xr\n",
    "import os"
   ]
  },
  {
   "cell_type": "code",
   "execution_count": null,
   "id": "d8325087",
   "metadata": {},
   "outputs": [],
   "source": [
    "os.makedirs('../data_output/deterministic', exist_ok=True)"
   ]
  },
  {
   "cell_type": "code",
   "execution_count": null,
   "id": "854c6658",
   "metadata": {},
   "outputs": [],
   "source": [
    "erf_2co2 = meinshausen2020(\n",
    "    np.array([554.30, 731.41, 273.87]) * np.ones((1, 1, 1, 3)),\n",
    "    np.array([277.15, 731.41, 273.87]) * np.ones((1, 1, 1, 3)),\n",
    "    np.array((1.05, 0.86, 1.07)) * np.ones((1, 1, 1, 1)),\n",
    "    np.ones((1, 1, 1, 3)),\n",
    "    np.array([True, False, False]),\n",
    "    np.array([False, True, False]),\n",
    "    np.array([False, False, True]),\n",
    "    np.array([False, False, False])\n",
    ").squeeze()[0]\n",
    "erf_2co2"
   ]
  },
  {
   "cell_type": "code",
   "execution_count": null,
   "id": "c23f0c59",
   "metadata": {},
   "outputs": [],
   "source": [
    "n_scen = 10000"
   ]
  },
  {
   "cell_type": "code",
   "execution_count": null,
   "id": "8034a1a4",
   "metadata": {},
   "outputs": [],
   "source": [
    "df_forc = pd.read_csv('../data_input/table_A3.3_historical_ERF_1750-2019_best_estimate.csv')\n",
    "df_solar = pd.read_csv('../data_input/solar_erf.csv', index_col='year')"
   ]
  },
  {
   "cell_type": "code",
   "execution_count": null,
   "id": "bfffe94f",
   "metadata": {},
   "outputs": [],
   "source": [
    "species, properties = read_properties()"
   ]
  },
  {
   "cell_type": "code",
   "execution_count": null,
   "id": "8309897c",
   "metadata": {},
   "outputs": [],
   "source": [
    "df_configs = pd.read_csv('../data_input/ar6_calibration_ebm3.csv', index_col=0)\n",
    "configs = np.array(list(df_configs.index))\n",
    "print(configs)"
   ]
  },
  {
   "cell_type": "code",
   "execution_count": null,
   "id": "a0f939ad",
   "metadata": {},
   "outputs": [],
   "source": [
    "seed = 1355763 + 399 * np.array(configs)"
   ]
  },
  {
   "cell_type": "code",
   "execution_count": null,
   "id": "de340dc1",
   "metadata": {},
   "outputs": [],
   "source": [
    "scenarios = list(range(1, n_scen+1))"
   ]
  },
  {
   "cell_type": "code",
   "execution_count": null,
   "id": "d48b49b0",
   "metadata": {},
   "outputs": [],
   "source": [
    "seedgen = 1355763\n",
    "seedstep = 399"
   ]
  },
  {
   "cell_type": "code",
   "execution_count": null,
   "id": "77917f0a",
   "metadata": {},
   "outputs": [],
   "source": [
    "da_emissions = xr.load_dataarray('../data_input/ssp_emissions_fair2.1.nc')"
   ]
  },
  {
   "cell_type": "code",
   "execution_count": null,
   "id": "4e2e9246",
   "metadata": {},
   "outputs": [],
   "source": [
    "trend_shape = np.ones(552)\n",
    "trend_shape[:271] = np.linspace(0, 1, 271)"
   ]
  },
  {
   "cell_type": "code",
   "execution_count": null,
   "id": "9adb65f2",
   "metadata": {},
   "outputs": [],
   "source": [
    "solar_forcing = np.zeros(552)\n",
    "solar_forcing[:550] = df_solar['solar_erf'].loc[1750.5:2300].values\n",
    "volcanic_forcing = np.zeros(552)\n",
    "volcanic_forcing[:270] = df_forc['volcanic'].values\n",
    "volcanic_forcing[269:281] = np.linspace(1, 0, 12) * volcanic_forcing[269]"
   ]
  },
  {
   "cell_type": "code",
   "execution_count": null,
   "id": "e91c02ca",
   "metadata": {},
   "outputs": [],
   "source": [
    "#del temp_out, ohc_out, erf_out, co2_out, ch4_out, n2o_out"
   ]
  },
  {
   "cell_type": "code",
   "execution_count": null,
   "id": "a7db99fe",
   "metadata": {},
   "outputs": [],
   "source": [
    "scenarios"
   ]
  },
  {
   "cell_type": "code",
   "execution_count": null,
   "id": "0fb6121b",
   "metadata": {},
   "outputs": [],
   "source": [
    "n_ens = 100\n",
    "\n",
    "calibrated_f4co2_mean = df_configs['F_4xCO2'].mean()\n",
    "\n",
    "for i_scen in tqdm(range(n_scen)):\n",
    "    # Draw 100 configs at random\n",
    "    random.seed(i_scen)\n",
    "    choose = np.array(random.sample(range(1001), n_ens))\n",
    "    config_sample = configs[choose]\n",
    "    f = FAIR(ch4_method='Thornhill2021')\n",
    "    f.define_time(1750, 2301, 1)\n",
    "    f.define_scenarios([i_scen+1])\n",
    "    f.define_configs(config_sample)\n",
    "    f.define_species(species, properties)\n",
    "    f.allocate()\n",
    "\n",
    "    # emissions and forcing\n",
    "    da = da_emissions.loc[dict(config='unspecified', scenario='ssp245')][:551, ...]\n",
    "    fe = da.expand_dims(dim=['scenario', 'config'], axis=(1,2))\n",
    "    f.emissions = fe.drop('config') * np.ones((1,1,n_ens,1))  # for everything that's not CO2, CH4 and N2O\n",
    "    f.emissions['scenario'] = [i_scen+1]\n",
    "    f.emissions['config'] = config_sample\n",
    "    \n",
    "    df = pd.read_csv('../data_processed/emissions_files/emissions%05d.csv' % (i_scen+1), index_col=0)\n",
    "    # RFF scenarios provide total CO2; we want to back out the fossil component\n",
    "    f.emissions.loc[dict(specie='CO2 FFI')] = df.loc[:,'CO2'].values[:,None,None] - f.emissions.loc[dict(specie='CO2 AFOLU')]\n",
    "    f.emissions.loc[dict(specie='CH4')] = df.loc[:,'CH4'].values[:,None,None]\n",
    "    f.emissions.loc[dict(specie='N2O')] = df.loc[:,'N2O'].values[:,None,None]\n",
    "    \n",
    "    fill(\n",
    "        f.forcing, \n",
    "        volcanic_forcing[:, None, None] * df_configs.loc[config_sample, 'scale Volcanic'].values.squeeze(), \n",
    "        specie='Volcanic'\n",
    "    )\n",
    "    fill(\n",
    "        f.forcing, \n",
    "        solar_forcing[:, None, None] * \n",
    "        df_configs.loc[config_sample, 'solar_amplitude'].values.squeeze() + \n",
    "        trend_shape[:, None, None] * df_configs.loc[config_sample, 'solar_trend'].values.squeeze(),\n",
    "        specie='Solar'\n",
    "    )\n",
    "\n",
    "    # climate configs\n",
    "    fill(f.climate_configs['ocean_heat_capacity'], df_configs.loc[config_sample, 'c1':'c3'].values)\n",
    "    fill(f.climate_configs['ocean_heat_transfer'], df_configs.loc[config_sample, 'kappa1':'kappa3'].values)\n",
    "    fill(f.climate_configs['deep_ocean_efficacy'], df_configs.loc[config_sample, 'epsilon'].values.squeeze())\n",
    "    fill(f.climate_configs['gamma_autocorrelation'], df_configs.loc[config_sample, 'gamma'].values.squeeze())\n",
    "    fill(f.climate_configs['sigma_eta'], df_configs.loc[config_sample, 'sigma_eta'].values.squeeze())\n",
    "    fill(f.climate_configs['sigma_xi'], df_configs.loc[config_sample, 'sigma_xi'].values.squeeze())\n",
    "    fill(f.climate_configs['seed'], seed[choose])\n",
    "    fill(f.climate_configs['stochastic_run'], False)\n",
    "    fill(f.climate_configs['use_seed'], False)\n",
    "    fill(f.climate_configs['forcing_4co2'], 2 * erf_2co2 * (1 + 0.561*(calibrated_f4co2_mean - df_configs.loc[config_sample,'F_4xCO2'])/calibrated_f4co2_mean))\n",
    "    \n",
    "    # species configs\n",
    "    f.fill_species_configs()\n",
    "    \n",
    "    # carbon cycle\n",
    "    fill(f.species_configs['iirf_0'], df_configs.loc[config_sample, 'r0'].values.squeeze(), specie='CO2')\n",
    "    fill(f.species_configs['iirf_airborne'], df_configs.loc[config_sample, 'rA'].values.squeeze(), specie='CO2')\n",
    "    fill(f.species_configs['iirf_uptake'], df_configs.loc[config_sample, 'rU'].values.squeeze(), specie='CO2')\n",
    "    fill(f.species_configs['iirf_temperature'], df_configs.loc[config_sample, 'rT'].values.squeeze(), specie='CO2')\n",
    "\n",
    "    # aerosol indirect\n",
    "    fill(f.species_configs['aci_scale'], df_configs.loc[config_sample, 'beta'].values.squeeze())\n",
    "    fill(f.species_configs['aci_shape'], df_configs.loc[config_sample, 'shape_so2'].values.squeeze(), specie='Sulfur')\n",
    "    fill(f.species_configs['aci_shape'], df_configs.loc[config_sample, 'shape_bc'].values.squeeze(), specie='BC')\n",
    "    fill(f.species_configs['aci_shape'], df_configs.loc[config_sample, 'shape_oc'].values.squeeze(), specie='OC')\n",
    "    \n",
    "    # methane lifetime baseline\n",
    "    fill(f.species_configs['unperturbed_lifetime'], 10.4198121, specie='CH4')\n",
    "    \n",
    "    # emissions adjustments for N2O and CH4 (we don't want to make these defaults as people might wanna run pulse expts with these gases)\n",
    "    fill(f.species_configs['baseline_emissions'], 19.019783117809567, specie='CH4')\n",
    "    fill(f.species_configs['baseline_emissions'], 0.08602230754, specie='N2O')\n",
    "    \n",
    "    # aerosol direct\n",
    "    for specie in ['BC', 'CH4', 'N2O', 'NH3', 'NOx', 'OC', 'Sulfur', 'VOC', 'Equivalent effective stratospheric chlorine']:\n",
    "        fill(f.species_configs['erfari_radiative_efficiency'], df_configs.loc[config_sample, f\"ari {specie}\"], specie=specie)\n",
    "\n",
    "    # forcing\n",
    "    for specie in ['CH4', 'N2O', 'Stratospheric water vapour', 'Contrails', 'Light absorbing particles on snow and ice', 'Land use']:\n",
    "        fill(f.species_configs['forcing_scale'], df_configs.loc[config_sample, f\"scale {specie}\"].values.squeeze(), specie=specie)\n",
    "    for specie in ['CFC-11', 'CFC-12', 'CFC-113', 'CFC-114', 'CFC-115', 'HCFC-22', 'HCFC-141b', 'HCFC-142b',\n",
    "        'CCl4', 'CHCl3', 'CH2Cl2', 'CH3Cl', 'CH3CCl3', 'CH3Br', 'Halon-1211', 'Halon-1301', 'Halon-2402',\n",
    "        'CF4', 'C2F6', 'C3F8', 'c-C4F8', 'C4F10', 'C5F12', 'C6F14', 'C7F16', 'C8F18', 'NF3', 'SF6', 'SO2F2',\n",
    "        'HFC-125', 'HFC-134a', 'HFC-143a', 'HFC-152a', 'HFC-227ea', 'HFC-23', 'HFC-236fa', 'HFC-245fa', 'HFC-32',\n",
    "        'HFC-365mfc', 'HFC-4310mee']:\n",
    "        fill(f.species_configs['forcing_scale'], df_configs.loc[config_sample, 'scale minorGHG'].values.squeeze(), specie=specie)\n",
    "    fill(f.species_configs['forcing_scale'], 1 + 0.561*(calibrated_f4co2_mean - df_configs.loc[config_sample,'F_4xCO2'].values)/calibrated_f4co2_mean, specie='CO2')\n",
    "\n",
    "    # ozone\n",
    "    for specie in ['CH4', 'N2O', 'CO', 'NOx', 'VOC', 'Equivalent effective stratospheric chlorine']:\n",
    "        fill(f.species_configs['ozone_radiative_efficiency'], df_configs.loc[config_sample, f\"o3 {specie}\"], specie=specie)\n",
    "\n",
    "    # tune down volcanic efficacy\n",
    "    fill(f.species_configs['forcing_efficacy'], 0.6, specie='Volcanic')\n",
    "    \n",
    "    # initial condition of CO2 concentration (but not baseline for forcing calculations)\n",
    "    fill(f.species_configs['baseline_concentration'], df_configs.loc[config_sample, 'co2_concentration_1750'].values.squeeze(), specie='CO2')\n",
    "\n",
    "    # initial conditions\n",
    "    initialise(f.concentration, f.species_configs['baseline_concentration'])\n",
    "    initialise(f.forcing, 0)\n",
    "    initialise(f.temperature, 0)\n",
    "    initialise(f.cumulative_emissions, 0)\n",
    "    initialise(f.airborne_emissions, 0)\n",
    "\n",
    "    f.run(progress=False)\n",
    "\n",
    "    \n",
    "    # at this point dump out some batch output\n",
    "    temp_out = f.temperature[:, 0, :, 0].data\n",
    "    ohc_out = f.ocean_heat_content_change[:, 0, :].data\n",
    "    erf_out = f.forcing_sum[:, 0, :].data\n",
    "    co2_out = f.concentration[:, 0, :, 2].data\n",
    "    ch4_out = f.concentration[:, 0, :, 3].data\n",
    "    n2o_out = f.concentration[:, 0, 0, 4].data\n",
    "    \n",
    "    ds = xr.Dataset(\n",
    "        {\n",
    "            \"temperature\": ([\"year\", \"run\"], temp_out - temp_out[100:151, :].mean(axis=0)),\n",
    "            \"effective_radiative_forcing\": ([\"year\", \"run\"], erf_out),\n",
    "            \"ocean_heat_content_change\": ([\"year\", \"run\"], ohc_out),\n",
    "            \"co2_concentration\": ([\"year\", \"run\"], co2_out),\n",
    "            \"ch4_concentration\": ([\"year\", \"run\"], ch4_out),\n",
    "            \"n2o_concentration\": ([\"year\"], n2o_out),\n",
    "        },\n",
    "        coords={\n",
    "            \"year\": (np.arange(1750, 2301.5)),\n",
    "            \"run\": config_sample\n",
    "        },\n",
    "    )\n",
    "    ds.to_netcdf('../data_output/deterministic/run%05d.nc' % (i_scen+1))\n",
    "    ds.close()"
   ]
  },
  {
   "cell_type": "code",
   "execution_count": null,
   "id": "58471246",
   "metadata": {},
   "outputs": [],
   "source": [
    "pl.plot(ch4_out);"
   ]
  },
  {
   "cell_type": "code",
   "execution_count": null,
   "id": "83730aa6",
   "metadata": {},
   "outputs": [],
   "source": [
    "pl.plot(co2_out);"
   ]
  },
  {
   "cell_type": "code",
   "execution_count": null,
   "id": "83c08b83",
   "metadata": {},
   "outputs": [],
   "source": [
    "pl.plot(n2o_out);"
   ]
  },
  {
   "cell_type": "code",
   "execution_count": null,
   "id": "d9a22236",
   "metadata": {},
   "outputs": [],
   "source": [
    "pl.plot(temp_out);"
   ]
  },
  {
   "cell_type": "code",
   "execution_count": null,
   "id": "707adaa0",
   "metadata": {},
   "outputs": [],
   "source": [
    "pl.plot(ohc_out);"
   ]
  },
  {
   "cell_type": "code",
   "execution_count": null,
   "id": "ded8d3c2",
   "metadata": {},
   "outputs": [],
   "source": [
    "pl.plot(erf_out);"
   ]
  },
  {
   "cell_type": "code",
   "execution_count": null,
   "id": "f20b504b",
   "metadata": {},
   "outputs": [],
   "source": []
  }
 ],
 "metadata": {
  "kernelspec": {
   "display_name": "Python 3 (ipykernel)",
   "language": "python",
   "name": "python3"
  },
  "language_info": {
   "codemirror_mode": {
    "name": "ipython",
    "version": 3
   },
   "file_extension": ".py",
   "mimetype": "text/x-python",
   "name": "python",
   "nbconvert_exporter": "python",
   "pygments_lexer": "ipython3",
   "version": "3.10.6"
  }
 },
 "nbformat": 4,
 "nbformat_minor": 5
}
