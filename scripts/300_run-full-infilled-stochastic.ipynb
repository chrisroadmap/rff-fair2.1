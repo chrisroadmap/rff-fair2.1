{
 "cells": [
  {
   "cell_type": "markdown",
   "id": "ae8f2073",
   "metadata": {},
   "source": [
    "# Run FaIR v2.1 with RFF scenarios\n",
    "\n",
    "- use all 10000 emissions scenarios\n",
    "- ~select 100 ensemble members at random per run~ run all 1001 ensemble members\n",
    "- use infilled emissions scenarios\n",
    "- stochastic variability is ON"
   ]
  },
  {
   "cell_type": "code",
   "execution_count": null,
   "id": "ffc6d3b1",
   "metadata": {},
   "outputs": [],
   "source": [
    "from fair import FAIR\n",
    "from fair.interface import fill, initialise\n",
    "from fair.io import read_properties\n",
    "\n",
    "from tqdm.auto import tqdm\n",
    "import multiprocessing\n",
    "import numpy as np\n",
    "import pandas as pd\n",
    "import copy\n",
    "import random\n",
    "import matplotlib.pyplot as pl\n",
    "import xarray as xr\n",
    "import os\n",
    "from pathlib import Path\n",
    "\n",
    "from dotenv import load_dotenv"
   ]
  },
  {
   "cell_type": "code",
   "execution_count": null,
   "id": "4b126e25",
   "metadata": {},
   "outputs": [],
   "source": [
    "# Get environment variables\n",
    "load_dotenv()\n",
    "\n",
    "# Make data directory\n",
    "DATADIR = Path(os.getenv(\"DATADIR\"))\n",
    "DATAIN = DATADIR.joinpath(\"data_input\")\n",
    "DATAPROCESSED = DATADIR.joinpath(\"data_processed\", \"infilled_extended\")\n",
    "DATAOUT = DATADIR.joinpath(\"data_output\", \"stochastic\")\n",
    "os.makedirs(DATAOUT, exist_ok=True)"
   ]
  },
  {
   "cell_type": "code",
   "execution_count": null,
   "id": "c23f0c59",
   "metadata": {},
   "outputs": [],
   "source": [
    "# number of processors\n",
    "WORKERS = multiprocessing.cpu_count()\n",
    "\n",
    "# number of scenarios\n",
    "RFF_SCENS = int(os.getenv(\"RFF_SCENS\"))"
   ]
  },
  {
   "cell_type": "code",
   "execution_count": null,
   "id": "608239e1",
   "metadata": {},
   "outputs": [],
   "source": [
    "rcmip_df = pd.read_csv(DATAIN.joinpath(\"rcmip-emissions-annual-means-v5-1-0.csv\"))"
   ]
  },
  {
   "cell_type": "code",
   "execution_count": null,
   "id": "760b1803",
   "metadata": {},
   "outputs": [],
   "source": [
    "variable_mappings = {\n",
    "    \"AR6 climate diagnostics|Emissions|BC\": 'Emissions|BC',\n",
    "    \"AR6 climate diagnostics|Emissions|CCl4\": 'Emissions|Montreal Gases|CCl4',\n",
    "    \"AR6 climate diagnostics|Emissions|CFC11\": 'Emissions|Montreal Gases|CFC|CFC11',\n",
    "    \"AR6 climate diagnostics|Emissions|CFC113\": 'Emissions|Montreal Gases|CFC|CFC113',\n",
    "    \"AR6 climate diagnostics|Emissions|CFC114\": 'Emissions|Montreal Gases|CFC|CFC114',\n",
    "    \"AR6 climate diagnostics|Emissions|CFC115\": 'Emissions|Montreal Gases|CFC|CFC115',\n",
    "    \"AR6 climate diagnostics|Emissions|CFC12\": 'Emissions|Montreal Gases|CFC|CFC12',\n",
    "    \"AR6 climate diagnostics|Emissions|CH2Cl2\": 'Emissions|Montreal Gases|CH2Cl2',\n",
    "    \"AR6 climate diagnostics|Emissions|CH3Br\": 'Emissions|Montreal Gases|CH3Br',\n",
    "    \"AR6 climate diagnostics|Emissions|CH3CCl3\": 'Emissions|Montreal Gases|CH3CCl3',\n",
    "    \"AR6 climate diagnostics|Emissions|CH3Cl\": 'Emissions|Montreal Gases|CH3Cl',\n",
    "    \"AR6 climate diagnostics|Emissions|CH4\": 'Emissions|CH4',\n",
    "    \"AR6 climate diagnostics|Emissions|CHCl3\": 'Emissions|Montreal Gases|CHCl3',\n",
    "    \"AR6 climate diagnostics|Emissions|CO\": 'Emissions|CO',\n",
    "    \"AR6 climate diagnostics|Emissions|CO2|AFOLU\": 'Emissions|CO2|MAGICC AFOLU',\n",
    "    \"AR6 climate diagnostics|Emissions|CO2|Energy and Industrial Processes\": 'Emissions|CO2|MAGICC Fossil and Industrial',\n",
    "    \"AR6 climate diagnostics|Emissions|HCFC141b\": 'Emissions|Montreal Gases|HCFC141b',\n",
    "    \"AR6 climate diagnostics|Emissions|HCFC142b\": 'Emissions|Montreal Gases|HCFC142b',\n",
    "    \"AR6 climate diagnostics|Emissions|HCFC22\": 'Emissions|Montreal Gases|HCFC22',\n",
    "    \"AR6 climate diagnostics|Emissions|HFC|HFC125\": 'Emissions|F-Gases|HFC|HFC125',\n",
    "    \"AR6 climate diagnostics|Emissions|HFC|HFC134a\": 'Emissions|F-Gases|HFC|HFC134a',\n",
    "    \"AR6 climate diagnostics|Emissions|HFC|HFC143a\": 'Emissions|F-Gases|HFC|HFC143a',\n",
    "    \"AR6 climate diagnostics|Emissions|HFC|HFC152a\": 'Emissions|F-Gases|HFC|HFC152a',\n",
    "    \"AR6 climate diagnostics|Emissions|HFC|HFC227ea\": 'Emissions|F-Gases|HFC|HFC227ea',\n",
    "    \"AR6 climate diagnostics|Emissions|HFC|HFC23\": 'Emissions|F-Gases|HFC|HFC23',\n",
    "    \"AR6 climate diagnostics|Emissions|HFC|HFC236fa\": 'Emissions|F-Gases|HFC|HFC236fa',\n",
    "    \"AR6 climate diagnostics|Emissions|HFC|HFC245fa\": 'Emissions|F-Gases|HFC|HFC245fa',\n",
    "    \"AR6 climate diagnostics|Emissions|HFC|HFC32\": 'Emissions|F-Gases|HFC|HFC32',\n",
    "    \"AR6 climate diagnostics|Emissions|HFC|HFC365mfc\": 'Emissions|F-Gases|HFC|HFC365mfc',\n",
    "    \"AR6 climate diagnostics|Emissions|HFC|HFC43-10\": 'Emissions|F-Gases|HFC|HFC4310mee',\n",
    "    \"AR6 climate diagnostics|Emissions|Halon1202\": 'Emissions|Montreal Gases|Halon1202',\n",
    "    \"AR6 climate diagnostics|Emissions|Halon1211\": 'Emissions|Montreal Gases|Halon1211',\n",
    "    \"AR6 climate diagnostics|Emissions|Halon1301\": 'Emissions|Montreal Gases|Halon1301',\n",
    "    \"AR6 climate diagnostics|Emissions|Halon2402\": 'Emissions|Montreal Gases|Halon2402',\n",
    "    \"AR6 climate diagnostics|Emissions|N2O\": 'Emissions|N2O',\n",
    "    \"AR6 climate diagnostics|Emissions|NF3\": 'Emissions|F-Gases|NF3',\n",
    "    \"AR6 climate diagnostics|Emissions|NH3\": 'Emissions|NH3',\n",
    "    \"AR6 climate diagnostics|Emissions|NOx\": 'Emissions|NOx',\n",
    "    \"AR6 climate diagnostics|Emissions|NOx|Aviation\": 'Emissions|NOx|MAGICC Fossil and Industrial|Aircraft',\n",
    "    \"AR6 climate diagnostics|Emissions|OC\": 'Emissions|OC',\n",
    "    \"AR6 climate diagnostics|Emissions|PFC|C2F6\": 'Emissions|F-Gases|PFC|C2F6',\n",
    "    \"AR6 climate diagnostics|Emissions|PFC|C3F8\": 'Emissions|F-Gases|PFC|C3F8',\n",
    "    \"AR6 climate diagnostics|Emissions|PFC|C4F10\": 'Emissions|F-Gases|PFC|C4F10',\n",
    "    \"AR6 climate diagnostics|Emissions|PFC|C5F12\": 'Emissions|F-Gases|PFC|C5F12',\n",
    "    \"AR6 climate diagnostics|Emissions|PFC|C6F14\": 'Emissions|F-Gases|PFC|C6F14',\n",
    "    \"AR6 climate diagnostics|Emissions|PFC|C7F16\": 'Emissions|F-Gases|PFC|C7F16',\n",
    "    \"AR6 climate diagnostics|Emissions|PFC|C8F18\": 'Emissions|F-Gases|PFC|C8F18',\n",
    "    \"AR6 climate diagnostics|Emissions|PFC|CF4\": 'Emissions|F-Gases|PFC|CF4',\n",
    "    \"AR6 climate diagnostics|Emissions|PFC|cC4F8\": 'Emissions|F-Gases|PFC|cC4F8',\n",
    "    \"AR6 climate diagnostics|Emissions|SF6\": 'Emissions|F-Gases|SF6',\n",
    "    \"AR6 climate diagnostics|Emissions|SO2F2\": 'Emissions|F-Gases|SO2F2',\n",
    "    \"AR6 climate diagnostics|Emissions|Sulfur\": 'Emissions|Sulfur',\n",
    "    \"AR6 climate diagnostics|Emissions|VOC\": 'Emissions|VOC',\n",
    "}"
   ]
  },
  {
   "cell_type": "code",
   "execution_count": null,
   "id": "8034a1a4",
   "metadata": {},
   "outputs": [],
   "source": [
    "hist_df = rcmip_df.loc[\n",
    "    (rcmip_df[\"Scenario\"]==\"historical\") & (rcmip_df[\"Region\"]==\"World\") & (rcmip_df[\"Variable\"].isin(variable_mappings.values()))\n",
    "]"
   ]
  },
  {
   "cell_type": "code",
   "execution_count": null,
   "id": "1f6980bc",
   "metadata": {},
   "outputs": [],
   "source": [
    "hist_df"
   ]
  },
  {
   "cell_type": "code",
   "execution_count": null,
   "id": "bfffe94f",
   "metadata": {},
   "outputs": [],
   "source": [
    "species, properties = read_properties()"
   ]
  },
  {
   "cell_type": "code",
   "execution_count": null,
   "id": "8309897c",
   "metadata": {},
   "outputs": [],
   "source": [
    "df_configs = pd.read_csv(DATAIN.joinpath(\"calibrated_constrained_parameters.csv\"), index_col=0)\n",
    "configs = np.array(list(df_configs.index))\n",
    "print(configs)"
   ]
  },
  {
   "cell_type": "code",
   "execution_count": null,
   "id": "a0f939ad",
   "metadata": {},
   "outputs": [],
   "source": [
    "#seed = 1355763 + 399 * np.array(configs)\n",
    "df_configs.seed"
   ]
  },
  {
   "cell_type": "code",
   "execution_count": null,
   "id": "de340dc1",
   "metadata": {},
   "outputs": [],
   "source": [
    "scenarios = list(range(1, RFF_SCENS+1))"
   ]
  },
  {
   "cell_type": "code",
   "execution_count": null,
   "id": "79aee9e6",
   "metadata": {},
   "outputs": [],
   "source": [
    "future_df = pd.read_csv(DATAPROCESSED.joinpath(\"emissions00001.csv\"))"
   ]
  },
  {
   "cell_type": "code",
   "execution_count": null,
   "id": "08f3cb3a",
   "metadata": {},
   "outputs": [],
   "source": [
    "future_df"
   ]
  },
  {
   "cell_type": "code",
   "execution_count": null,
   "id": "d03ff674",
   "metadata": {},
   "outputs": [],
   "source": [
    "emissions = np.ones((551, 53)) * np.nan"
   ]
  },
  {
   "cell_type": "code",
   "execution_count": null,
   "id": "f56e4d4c",
   "metadata": {},
   "outputs": [],
   "source": [
    "#emissions[265:, :] = emissions_df.loc[:, '2015':].T"
   ]
  },
  {
   "cell_type": "code",
   "execution_count": null,
   "id": "add2e5be",
   "metadata": {},
   "outputs": [],
   "source": [
    "ucfuture = {var: 1 for var in variable_mappings.keys()}\n",
    "ucfuture['AR6 climate diagnostics|Emissions|CO2|Energy and Industrial Processes'] = 0.001\n",
    "ucfuture['AR6 climate diagnostics|Emissions|CO2|AFOLU'] = 0.001\n",
    "\n",
    "ucpast = {var: 1 for var in variable_mappings.values()}\n",
    "ucpast['Emissions|CO2|MAGICC Fossil and Industrial'] = 0.001\n",
    "ucpast['Emissions|CO2|MAGICC AFOLU'] = 0.001\n",
    "ucpast['Emissions|N2O'] = 0.001\n",
    "#dedaft"
   ]
  },
  {
   "cell_type": "code",
   "execution_count": null,
   "id": "7e27e2ed",
   "metadata": {},
   "outputs": [],
   "source": [
    "for ivar, (varnamefuture, varnamepast) in enumerate(variable_mappings.items()):\n",
    "    emissions[:265, ivar] = hist_df.loc[\n",
    "        (hist_df['Variable']==varnamepast), '1750':'2014'\n",
    "    ] * ucpast[varnamepast]\n",
    "    emissions[265:, ivar] = future_df.loc[\n",
    "        (future_df['variable']==varnamefuture), '2015':\n",
    "    ] * ucfuture[varnamefuture]"
   ]
  },
  {
   "cell_type": "code",
   "execution_count": null,
   "id": "2430e5ca",
   "metadata": {},
   "outputs": [],
   "source": [
    "emissions_df = pd.DataFrame(emissions, columns=variable_mappings.keys(), index=np.arange(1750, 2301))"
   ]
  },
  {
   "cell_type": "code",
   "execution_count": null,
   "id": "eac4c64d",
   "metadata": {},
   "outputs": [],
   "source": []
  },
  {
   "cell_type": "code",
   "execution_count": null,
   "id": "e2783d94",
   "metadata": {},
   "outputs": [],
   "source": [
    "emissions_df"
   ]
  },
  {
   "cell_type": "code",
   "execution_count": null,
   "id": "4e2e9246",
   "metadata": {},
   "outputs": [],
   "source": [
    "df_solar = pd.read_csv(\n",
    "    DATAIN.joinpath(\"solar_erf_timebounds.csv\"), index_col=\"year\"\n",
    ")\n",
    "df_volcanic = pd.read_csv(\n",
    "    DATAIN.joinpath(\"volcanic_ERF_monthly_-950001-201912.csv\")\n",
    ")\n",
    "\n",
    "solar_forcing = np.zeros(551)\n",
    "volcanic_forcing = np.zeros(551)\n",
    "for i, year in enumerate(np.arange(1750, 2021)):\n",
    "    volcanic_forcing[i] = np.mean(\n",
    "        df_volcanic.loc[\n",
    "            ((year - 1) <= df_volcanic[\"year\"]) & (df_volcanic[\"year\"] < year)\n",
    "        ].erf\n",
    "    )\n",
    "volcanic_forcing[271:281] = np.linspace(1, 0, 10) * volcanic_forcing[270]\n",
    "solar_forcing = df_solar[\"erf\"].loc[1750:2300].values"
   ]
  },
  {
   "cell_type": "code",
   "execution_count": null,
   "id": "9adb65f2",
   "metadata": {},
   "outputs": [],
   "source": [
    "# solar_forcing = np.zeros(552)\n",
    "# solar_forcing[:550] = df_solar['solar_erf'].loc[1750.5:2300].values\n",
    "# volcanic_forcing = np.zeros(552)\n",
    "# volcanic_forcing[:270] = df_forc['volcanic'].values\n",
    "# volcanic_forcing[269:281] = np.linspace(1, 0, 12) * volcanic_forcing[269]"
   ]
  },
  {
   "cell_type": "code",
   "execution_count": null,
   "id": "ab91d3a2",
   "metadata": {},
   "outputs": [],
   "source": [
    "pl.plot(solar_forcing[:550])"
   ]
  },
  {
   "cell_type": "code",
   "execution_count": null,
   "id": "e91c02ca",
   "metadata": {},
   "outputs": [],
   "source": [
    "#del temp_out, ohc_out, erf_out, co2_out, ch4_out, n2o_out"
   ]
  },
  {
   "cell_type": "code",
   "execution_count": null,
   "id": "a7db99fe",
   "metadata": {},
   "outputs": [],
   "source": [
    "scenarios"
   ]
  },
  {
   "cell_type": "code",
   "execution_count": null,
   "id": "46fd2573",
   "metadata": {},
   "outputs": [],
   "source": [
    "species_mapping = {\n",
    "    \"AR6 climate diagnostics|Emissions|BC\": 'BC',\n",
    "    \"AR6 climate diagnostics|Emissions|CCl4\": 'CCl4',\n",
    "    \"AR6 climate diagnostics|Emissions|CFC11\": 'CFC-11',\n",
    "    \"AR6 climate diagnostics|Emissions|CFC113\": 'CFC-113',\n",
    "    \"AR6 climate diagnostics|Emissions|CFC114\": 'CFC-114',\n",
    "    \"AR6 climate diagnostics|Emissions|CFC115\": 'CFC-115',\n",
    "    \"AR6 climate diagnostics|Emissions|CFC12\": 'CFC-12',\n",
    "    \"AR6 climate diagnostics|Emissions|CH2Cl2\": 'CH2Cl2',\n",
    "    \"AR6 climate diagnostics|Emissions|CH3Br\": 'CH3Br',\n",
    "    \"AR6 climate diagnostics|Emissions|CH3CCl3\": 'CH3CCl3',\n",
    "    \"AR6 climate diagnostics|Emissions|CH3Cl\": 'CH3Cl',\n",
    "    \"AR6 climate diagnostics|Emissions|CH4\": 'CH4',\n",
    "    \"AR6 climate diagnostics|Emissions|CHCl3\": 'CHCl3',\n",
    "    \"AR6 climate diagnostics|Emissions|CO\": 'CO',\n",
    "    \"AR6 climate diagnostics|Emissions|CO2|AFOLU\": 'CO2 AFOLU',\n",
    "    \"AR6 climate diagnostics|Emissions|CO2|Energy and Industrial Processes\": 'CO2 FFI',\n",
    "    \"AR6 climate diagnostics|Emissions|HCFC141b\": 'HCFC-141b',\n",
    "    \"AR6 climate diagnostics|Emissions|HCFC142b\": 'HCFC-142b',\n",
    "    \"AR6 climate diagnostics|Emissions|HCFC22\": 'HCFC-22',\n",
    "    \"AR6 climate diagnostics|Emissions|HFC|HFC125\": 'HFC-125',\n",
    "    \"AR6 climate diagnostics|Emissions|HFC|HFC134a\": 'HFC-134a',\n",
    "    \"AR6 climate diagnostics|Emissions|HFC|HFC143a\": 'HFC-143a',\n",
    "    \"AR6 climate diagnostics|Emissions|HFC|HFC152a\": 'HFC-152a',\n",
    "    \"AR6 climate diagnostics|Emissions|HFC|HFC227ea\": 'HFC-227ea',\n",
    "    \"AR6 climate diagnostics|Emissions|HFC|HFC23\": 'HFC-23',\n",
    "    \"AR6 climate diagnostics|Emissions|HFC|HFC236fa\": 'HFC-236fa',\n",
    "    \"AR6 climate diagnostics|Emissions|HFC|HFC245fa\": 'HFC-245fa',\n",
    "    \"AR6 climate diagnostics|Emissions|HFC|HFC32\": 'HFC-32',\n",
    "    \"AR6 climate diagnostics|Emissions|HFC|HFC365mfc\": 'HFC-365mfc',\n",
    "    \"AR6 climate diagnostics|Emissions|HFC|HFC43-10\": 'HFC-4310mee',\n",
    "    \"AR6 climate diagnostics|Emissions|Halon1202\": 'Halon-1202',\n",
    "    \"AR6 climate diagnostics|Emissions|Halon1211\": 'Halon-1211',\n",
    "    \"AR6 climate diagnostics|Emissions|Halon1301\": 'Halon-1301',\n",
    "    \"AR6 climate diagnostics|Emissions|Halon2402\": 'Halon-2402',\n",
    "    \"AR6 climate diagnostics|Emissions|N2O\": 'N2O',\n",
    "    \"AR6 climate diagnostics|Emissions|NF3\": 'NF3',\n",
    "    \"AR6 climate diagnostics|Emissions|NH3\": 'NH3',\n",
    "    \"AR6 climate diagnostics|Emissions|NOx\": 'NOx',\n",
    "    \"AR6 climate diagnostics|Emissions|NOx|Aviation\": 'NOx aviation',\n",
    "    \"AR6 climate diagnostics|Emissions|OC\": 'OC',\n",
    "    \"AR6 climate diagnostics|Emissions|PFC|C2F6\": 'C2F6',\n",
    "    \"AR6 climate diagnostics|Emissions|PFC|C3F8\": 'C3F8',\n",
    "    \"AR6 climate diagnostics|Emissions|PFC|C4F10\": 'C4F10',\n",
    "    \"AR6 climate diagnostics|Emissions|PFC|C5F12\": 'C5F12',\n",
    "    \"AR6 climate diagnostics|Emissions|PFC|C6F14\": 'C6F14',\n",
    "    \"AR6 climate diagnostics|Emissions|PFC|C7F16\": 'C7F16',\n",
    "    \"AR6 climate diagnostics|Emissions|PFC|C8F18\": 'C8F18',\n",
    "    \"AR6 climate diagnostics|Emissions|PFC|CF4\": 'CF4',\n",
    "    \"AR6 climate diagnostics|Emissions|PFC|cC4F8\": 'c-C4F8',\n",
    "    \"AR6 climate diagnostics|Emissions|SF6\": 'SF6',\n",
    "    \"AR6 climate diagnostics|Emissions|SO2F2\": 'SO2F2',\n",
    "    \"AR6 climate diagnostics|Emissions|Sulfur\": 'Sulfur',\n",
    "    \"AR6 climate diagnostics|Emissions|VOC\": 'VOC',\n",
    "}"
   ]
  },
  {
   "cell_type": "code",
   "execution_count": null,
   "id": "1d07641e",
   "metadata": {},
   "outputs": [],
   "source": [
    "#species"
   ]
  },
  {
   "cell_type": "code",
   "execution_count": null,
   "id": "68562e1e",
   "metadata": {},
   "outputs": [],
   "source": [
    "f = FAIR(ch4_method='Thornhill2021')\n",
    "f.define_time(1750, 2301, 1)\n",
    "f.define_scenarios([1])\n",
    "f.define_configs(configs)\n",
    "f.define_species(species, properties)\n",
    "f.allocate()"
   ]
  },
  {
   "cell_type": "code",
   "execution_count": null,
   "id": "b052263b",
   "metadata": {},
   "outputs": [],
   "source": [
    "f.emission"
   ]
  },
  {
   "cell_type": "code",
   "execution_count": null,
   "id": "0fb6121b",
   "metadata": {},
   "outputs": [],
   "source": [
    "for i_scen in tqdm(range(RFF_SCENS)):\n",
    "#     # Draw 100 configs at random\n",
    "#     random.seed(i_scen)\n",
    "#     choose = np.array(random.sample(range(1001), RFF_SCENS))\n",
    "#     config_sample = configs[choose]\n",
    "    f = FAIR(ch4_method='Thornhill2021')\n",
    "    f.define_time(1750, 2301, 1)\n",
    "    f.define_scenarios([i_scen+1])\n",
    "    f.define_configs(configs)\n",
    "    f.define_species(species, properties)\n",
    "    f.allocate()\n",
    "\n",
    "    # emissions and forcing\n",
    "    f.emissions = fe.drop('config') * np.ones((1,1,RFF_SCENS,1))  # for everything that's not CO2, CH4 and N2O\n",
    "#    f.emissions['scenario'] = [i_scen+1]\n",
    "#    f.emissions['config'] = config_sample\n",
    "    \n",
    "    df = pd.read_csv('../data_processed/emissions_files/emissions%05d.csv' % (i_scen+1), index_col=0)\n",
    "    # RFF scenarios provide total CO2; we want to back out the fossil component\n",
    "    f.emissions.loc[dict(specie='CO2 FFI')] = df.loc[:,'CO2'].values[:,None,None] - f.emissions.loc[dict(specie='CO2 AFOLU')]\n",
    "    f.emissions.loc[dict(specie='CH4')] = df.loc[:,'CH4'].values[:,None,None]\n",
    "    f.emissions.loc[dict(specie='N2O')] = df.loc[:,'N2O'].values[:,None,None]\n",
    "    \n",
    "    fill(\n",
    "        f.forcing, \n",
    "        volcanic_forcing[:, None, None] * df_configs.loc[config_sample, 'scale Volcanic'].values.squeeze(), \n",
    "        specie='Volcanic'\n",
    "    )\n",
    "    fill(\n",
    "        f.forcing, \n",
    "        solar_forcing[:, None, None] * \n",
    "        df_configs.loc[config_sample, 'solar_amplitude'].values.squeeze() + \n",
    "        trend_shape[:, None, None] * df_configs.loc[config_sample, 'solar_trend'].values.squeeze(),\n",
    "        specie='Solar'\n",
    "    )\n",
    "\n",
    "    # climate configs\n",
    "    fill(f.climate_configs['ocean_heat_capacity'], df_configs.loc[config_sample, 'c1':'c3'].values)\n",
    "    fill(f.climate_configs['ocean_heat_transfer'], df_configs.loc[config_sample, 'kappa1':'kappa3'].values)\n",
    "    fill(f.climate_configs['deep_ocean_efficacy'], df_configs.loc[config_sample, 'epsilon'].values.squeeze())\n",
    "    fill(f.climate_configs['gamma_autocorrelation'], df_configs.loc[config_sample, 'gamma'].values.squeeze())\n",
    "    fill(f.climate_configs['sigma_eta'], df_configs.loc[config_sample, 'sigma_eta'].values.squeeze())\n",
    "    fill(f.climate_configs['sigma_xi'], df_configs.loc[config_sample, 'sigma_xi'].values.squeeze())\n",
    "    fill(f.climate_configs['seed'], seed[choose])\n",
    "    fill(f.climate_configs['stochastic_run'], True)\n",
    "    fill(f.climate_configs['use_seed'], True)\n",
    "    fill(f.climate_configs['forcing_4co2'], 2 * erf_2co2 * (1 + 0.561*(calibrated_f4co2_mean - df_configs.loc[config_sample,'F_4xCO2'])/calibrated_f4co2_mean))\n",
    "    \n",
    "    # species configs\n",
    "    f.fill_species_configs()\n",
    "    \n",
    "    # carbon cycle\n",
    "    fill(f.species_configs['iirf_0'], df_configs.loc[config_sample, 'r0'].values.squeeze(), specie='CO2')\n",
    "    fill(f.species_configs['iirf_airborne'], df_configs.loc[config_sample, 'rA'].values.squeeze(), specie='CO2')\n",
    "    fill(f.species_configs['iirf_uptake'], df_configs.loc[config_sample, 'rU'].values.squeeze(), specie='CO2')\n",
    "    fill(f.species_configs['iirf_temperature'], df_configs.loc[config_sample, 'rT'].values.squeeze(), specie='CO2')\n",
    "\n",
    "    # aerosol indirect\n",
    "    fill(f.species_configs['aci_scale'], df_configs.loc[config_sample, 'beta'].values.squeeze())\n",
    "    fill(f.species_configs['aci_shape'], df_configs.loc[config_sample, 'shape_so2'].values.squeeze(), specie='Sulfur')\n",
    "    fill(f.species_configs['aci_shape'], df_configs.loc[config_sample, 'shape_bc'].values.squeeze(), specie='BC')\n",
    "    fill(f.species_configs['aci_shape'], df_configs.loc[config_sample, 'shape_oc'].values.squeeze(), specie='OC')\n",
    "    \n",
    "    # methane lifetime baseline\n",
    "    fill(f.species_configs['unperturbed_lifetime'], 10.4198121, specie='CH4')\n",
    "    \n",
    "    # emissions adjustments for N2O and CH4 (we don't want to make these defaults as people might wanna run pulse expts with these gases)\n",
    "    fill(f.species_configs['baseline_emissions'], 19.019783117809567, specie='CH4')\n",
    "    fill(f.species_configs['baseline_emissions'], 0.08602230754, specie='N2O')\n",
    "    \n",
    "    # aerosol direct\n",
    "    for specie in ['BC', 'CH4', 'N2O', 'NH3', 'NOx', 'OC', 'Sulfur', 'VOC', 'Equivalent effective stratospheric chlorine']:\n",
    "        fill(f.species_configs['erfari_radiative_efficiency'], df_configs.loc[config_sample, f\"ari {specie}\"], specie=specie)\n",
    "\n",
    "    # forcing\n",
    "    for specie in ['CH4', 'N2O', 'Stratospheric water vapour', 'Contrails', 'Light absorbing particles on snow and ice', 'Land use']:\n",
    "        fill(f.species_configs['forcing_scale'], df_configs.loc[config_sample, f\"scale {specie}\"].values.squeeze(), specie=specie)\n",
    "    for specie in ['CFC-11', 'CFC-12', 'CFC-113', 'CFC-114', 'CFC-115', 'HCFC-22', 'HCFC-141b', 'HCFC-142b',\n",
    "        'CCl4', 'CHCl3', 'CH2Cl2', 'CH3Cl', 'CH3CCl3', 'CH3Br', 'Halon-1211', 'Halon-1301', 'Halon-2402',\n",
    "        'CF4', 'C2F6', 'C3F8', 'c-C4F8', 'C4F10', 'C5F12', 'C6F14', 'C7F16', 'C8F18', 'NF3', 'SF6', 'SO2F2',\n",
    "        'HFC-125', 'HFC-134a', 'HFC-143a', 'HFC-152a', 'HFC-227ea', 'HFC-23', 'HFC-236fa', 'HFC-245fa', 'HFC-32',\n",
    "        'HFC-365mfc', 'HFC-4310mee']:\n",
    "        fill(f.species_configs['forcing_scale'], df_configs.loc[config_sample, 'scale minorGHG'].values.squeeze(), specie=specie)\n",
    "    fill(f.species_configs['forcing_scale'], 1 + 0.561*(calibrated_f4co2_mean - df_configs.loc[config_sample,'F_4xCO2'].values)/calibrated_f4co2_mean, specie='CO2')\n",
    "\n",
    "    # ozone\n",
    "    for specie in ['CH4', 'N2O', 'CO', 'NOx', 'VOC', 'Equivalent effective stratospheric chlorine']:\n",
    "        fill(f.species_configs['ozone_radiative_efficiency'], df_configs.loc[config_sample, f\"o3 {specie}\"], specie=specie)\n",
    "\n",
    "    # tune down volcanic efficacy\n",
    "    fill(f.species_configs['forcing_efficacy'], 0.6, specie='Volcanic')\n",
    "    \n",
    "    # initial condition of CO2 concentration (but not baseline for forcing calculations)\n",
    "    fill(f.species_configs['baseline_concentration'], df_configs.loc[config_sample, 'co2_concentration_1750'].values.squeeze(), specie='CO2')\n",
    "\n",
    "    # initial conditions\n",
    "    initialise(f.concentration, f.species_configs['baseline_concentration'])\n",
    "    initialise(f.forcing, 0)\n",
    "    initialise(f.temperature, 0)\n",
    "    initialise(f.cumulative_emissions, 0)\n",
    "    initialise(f.airborne_emissions, 0)\n",
    "\n",
    "    f.run(progress=False)\n",
    "\n",
    "    \n",
    "    # at this point dump out some batch output\n",
    "    temp_out = f.temperature[:, 0, :, 0].data\n",
    "    ohc_out = f.ocean_heat_content_change[:, 0, :].data\n",
    "    erf_out = f.forcing_sum[:, 0, :].data\n",
    "    co2_out = f.concentration[:, 0, :, 2].data\n",
    "    ch4_out = f.concentration[:, 0, :, 3].data\n",
    "    n2o_out = f.concentration[:, 0, 0, 4].data\n",
    "    \n",
    "    ds = xr.Dataset(\n",
    "        {\n",
    "            \"temperature\": ([\"year\", \"run\"], temp_out - temp_out[100:151, :].mean(axis=0)),\n",
    "            \"effective_radiative_forcing\": ([\"year\", \"run\"], erf_out),\n",
    "            \"ocean_heat_content_change\": ([\"year\", \"run\"], ohc_out),\n",
    "            \"co2_concentration\": ([\"year\", \"run\"], co2_out),\n",
    "            \"ch4_concentration\": ([\"year\", \"run\"], ch4_out),\n",
    "            \"n2o_concentration\": ([\"year\"], n2o_out),\n",
    "        },\n",
    "        coords={\n",
    "            \"year\": (np.arange(1750, 2301.5)),\n",
    "            \"run\": config_sample\n",
    "        },\n",
    "    )\n",
    "    ds.to_netcdf('../data_output/stochastic/run%05d.nc' % (i_scen+1))\n",
    "    ds.close()"
   ]
  },
  {
   "cell_type": "code",
   "execution_count": null,
   "id": "58471246",
   "metadata": {},
   "outputs": [],
   "source": [
    "pl.plot(ch4_out);"
   ]
  },
  {
   "cell_type": "code",
   "execution_count": null,
   "id": "83730aa6",
   "metadata": {},
   "outputs": [],
   "source": [
    "pl.plot(co2_out);"
   ]
  },
  {
   "cell_type": "code",
   "execution_count": null,
   "id": "83c08b83",
   "metadata": {},
   "outputs": [],
   "source": [
    "pl.plot(n2o_out);"
   ]
  },
  {
   "cell_type": "code",
   "execution_count": null,
   "id": "d9a22236",
   "metadata": {},
   "outputs": [],
   "source": [
    "pl.plot(temp_out);"
   ]
  },
  {
   "cell_type": "code",
   "execution_count": null,
   "id": "707adaa0",
   "metadata": {},
   "outputs": [],
   "source": [
    "pl.plot(ohc_out);"
   ]
  },
  {
   "cell_type": "code",
   "execution_count": null,
   "id": "ded8d3c2",
   "metadata": {},
   "outputs": [],
   "source": [
    "pl.plot(erf_out);"
   ]
  },
  {
   "cell_type": "code",
   "execution_count": null,
   "id": "f20b504b",
   "metadata": {},
   "outputs": [],
   "source": []
  }
 ],
 "metadata": {
  "kernelspec": {
   "display_name": "Python 3 (ipykernel)",
   "language": "python",
   "name": "python3"
  },
  "language_info": {
   "codemirror_mode": {
    "name": "ipython",
    "version": 3
   },
   "file_extension": ".py",
   "mimetype": "text/x-python",
   "name": "python",
   "nbconvert_exporter": "python",
   "pygments_lexer": "ipython3",
   "version": "3.10.8"
  }
 },
 "nbformat": 4,
 "nbformat_minor": 5
}
