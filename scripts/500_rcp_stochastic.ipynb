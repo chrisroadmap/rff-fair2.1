{
 "cells": [
  {
   "cell_type": "code",
   "execution_count": null,
   "id": "4c87a4a0",
   "metadata": {},
   "outputs": [],
   "source": [
    "import numpy as np\n",
    "import pandas as pd\n",
    "import matplotlib.pyplot as pl\n",
    "import time\n",
    "import scipy.stats\n",
    "from tqdm import tqdm\n",
    "import xarray as xr\n",
    "\n",
    "from fair import FAIR\n",
    "from fair.io import read_properties\n",
    "from fair.interface import fill, initialise\n",
    "from fair.forcing.ghg import meinshausen2020"
   ]
  },
  {
   "cell_type": "code",
   "execution_count": null,
   "id": "487f1591",
   "metadata": {},
   "outputs": [],
   "source": [
    "erf_2co2 = meinshausen2020(\n",
    "    np.array([554.30, 731.41, 273.87]) * np.ones((1, 1, 1, 3)),\n",
    "    np.array([277.15, 731.41, 273.87]) * np.ones((1, 1, 1, 3)),\n",
    "    np.array((1.05, 0.86, 1.07)) * np.ones((1, 1, 1, 1)),\n",
    "    np.ones((1, 1, 1, 3)),\n",
    "    np.array([True, False, False]),\n",
    "    np.array([False, True, False]),\n",
    "    np.array([False, False, True]),\n",
    "    np.array([False, False, False])\n",
    ").squeeze()[0]\n",
    "erf_2co2"
   ]
  },
  {
   "cell_type": "code",
   "execution_count": null,
   "id": "5b223914",
   "metadata": {},
   "outputs": [],
   "source": [
    "scenarios = ['rcp26', 'rcp45', 'rcp60', 'rcp85']"
   ]
  },
  {
   "cell_type": "code",
   "execution_count": null,
   "id": "44fa9c2f",
   "metadata": {},
   "outputs": [],
   "source": [
    "df_forc = pd.read_csv('../data_input/table_A3.3_historical_ERF_1750-2019_best_estimate.csv')\n",
    "df_solar = pd.read_csv('../data_input/solar_erf.csv', index_col='year')"
   ]
  },
  {
   "cell_type": "code",
   "execution_count": null,
   "id": "d099c91e",
   "metadata": {},
   "outputs": [],
   "source": [
    "solar_forcing = np.zeros(537)\n",
    "solar_forcing[:535] = df_solar['solar_erf'].loc[1765.5:2300].values\n",
    "volcanic_forcing = np.zeros(537)\n",
    "volcanic_forcing[:255] = df_forc['volcanic'].values[15:]\n",
    "volcanic_forcing[254:266] = np.linspace(1, 0, 12) * volcanic_forcing[254]"
   ]
  },
  {
   "cell_type": "code",
   "execution_count": null,
   "id": "8b73e1d7",
   "metadata": {},
   "outputs": [],
   "source": [
    "pl.plot(solar_forcing)"
   ]
  },
  {
   "cell_type": "code",
   "execution_count": null,
   "id": "21514ea2",
   "metadata": {},
   "outputs": [],
   "source": [
    "da_emissions = xr.load_dataarray('../data_input/rcp_emissions_fair2.1.nc')"
   ]
  },
  {
   "cell_type": "code",
   "execution_count": null,
   "id": "38961abd",
   "metadata": {},
   "outputs": [],
   "source": [
    "species = [\n",
    "    'CO2 FFI', 'CO2 AFOLU', 'CO2', 'CH4', 'N2O',\n",
    "    'Sulfur', 'BC', 'OC', 'NH3', 'NOx', 'VOC', 'CO',\n",
    "    'CFC-11', 'CFC-12', 'CFC-113', 'CFC-114', 'CFC-115',\n",
    "    'HCFC-22', 'HCFC-141b', 'HCFC-142b',\n",
    "    'CCl4', 'CH3Cl', 'CH3CCl3', 'CH3Br',\n",
    "    'Halon-1211', 'Halon-1202', 'Halon-1301', 'Halon-2402',\n",
    "    'CF4', 'C2F6', 'C6F14',\n",
    "    'SF6',\n",
    "    'HFC-125', 'HFC-134a', 'HFC-143a', 'HFC-227ea', 'HFC-23', 'HFC-245fa', 'HFC-32', \n",
    "    'HFC-4310mee', 'Solar', 'Volcanic', 'Aerosol-radiation interactions',\n",
    "    'Aerosol-cloud interactions', 'Ozone', 'Light absorbing particles on snow and ice',\n",
    "    'Land use', 'Stratospheric water vapour', 'Equivalent effective stratospheric chlorine',\n",
    "    'Contrails', 'NOx aviation'\n",
    "]\n",
    "\n",
    "species, properties = read_properties(species=species)"
   ]
  },
  {
   "cell_type": "code",
   "execution_count": null,
   "id": "90f18c50",
   "metadata": {},
   "outputs": [],
   "source": [
    "df_configs = pd.read_csv('../data_input/ar6_calibration_ebm3_rcp.csv', index_col=0)\n",
    "configs = np.array(list(df_configs.index))\n",
    "print(configs)\n",
    "df_configs"
   ]
  },
  {
   "cell_type": "code",
   "execution_count": null,
   "id": "249628e0",
   "metadata": {},
   "outputs": [],
   "source": [
    "# using an extremely crude curve fit to estimate 1765 CO2\n",
    "\n",
    "obs_co2 = np.array([278.3, 285.5, 296.4])\n",
    "obs_years = [1750, 1850, 1900]\n",
    "\n",
    "def fit(x, a, b, c):\n",
    "    return a + b*np.exp(c*(x-1750))\n",
    "\n",
    "p, _ = scipy.optimize.curve_fit(fit, obs_years, obs_co2, p0=[278.3, 1.45, 0.0171])\n",
    "pl.plot(np.arange(1750, 1900), p[0]+p[1]*np.exp(p[2] * (np.arange(1750, 1900)-1750)))\n",
    "pl.scatter(obs_years, obs_co2, color='k')\n",
    "\n",
    "offset1765co2 = fit(1765, p[0], p[1], p[2]) - fit(1750, p[0], p[1], p[2])\n",
    "offset1765co2"
   ]
  },
  {
   "cell_type": "code",
   "execution_count": null,
   "id": "8b14e329",
   "metadata": {},
   "outputs": [],
   "source": [
    "obs_ch4 = np.array([729.2, 807.6, 925.1])\n",
    "obs_years = [1750, 1850, 1900]\n",
    "\n",
    "def fit(x, a, b, c):\n",
    "    return a + b*np.exp(c*(x-1750))\n",
    "\n",
    "p, _ = scipy.optimize.curve_fit(fit, obs_years, obs_ch4, p0=[278.3, 1.45, 0.0171])\n",
    "pl.plot(np.arange(1750, 1900), p[0]+p[1]*np.exp(p[2] * (np.arange(1750, 1900)-1750)))\n",
    "pl.scatter(obs_years, obs_ch4, color='k')\n",
    "\n",
    "baseline1765ch4 = fit(1765, p[0], p[1], p[2])\n",
    "baseline1765ch4"
   ]
  },
  {
   "cell_type": "code",
   "execution_count": null,
   "id": "d1b72707",
   "metadata": {},
   "outputs": [],
   "source": [
    "obs_n2o = np.array([270.1, 272.1, 278.9])\n",
    "obs_years = [1750, 1850, 1900]\n",
    "\n",
    "def fit(x, a, b, c):\n",
    "    return a + b*np.exp(c*(x-1750))\n",
    "\n",
    "p, _ = scipy.optimize.curve_fit(fit, obs_years, obs_n2o, p0=[278.3, 1.45, 0.0171])\n",
    "pl.plot(np.arange(1750, 1900), p[0]+p[1]*np.exp(p[2] * (np.arange(1750, 1900)-1750)))\n",
    "pl.scatter(obs_years, obs_n2o, color='k')\n",
    "\n",
    "baseline1765n2o = fit(1765, p[0], p[1], p[2])\n",
    "baseline1765n2o"
   ]
  },
  {
   "cell_type": "code",
   "execution_count": null,
   "id": "37b6f9a2",
   "metadata": {},
   "outputs": [],
   "source": [
    "seed = 1355763 + 399 * np.array(configs)"
   ]
  },
  {
   "cell_type": "code",
   "execution_count": null,
   "id": "c61eba9d",
   "metadata": {},
   "outputs": [],
   "source": [
    "trend_shape = np.ones(537)\n",
    "trend_shape[:256] = np.linspace(0, 1, 256)"
   ]
  },
  {
   "cell_type": "code",
   "execution_count": null,
   "id": "f4df7edb",
   "metadata": {},
   "outputs": [],
   "source": [
    "f = FAIR(ch4_method='Thornhill2021')\n",
    "f.define_time(1765, 2301, 1)\n",
    "f.define_scenarios(scenarios)\n",
    "f.define_configs(configs)\n",
    "f.define_species(species, properties)\n",
    "f.allocate()"
   ]
  },
  {
   "cell_type": "code",
   "execution_count": null,
   "id": "45f466c7",
   "metadata": {},
   "outputs": [],
   "source": [
    "f.emissions[:,:,:,:]"
   ]
  },
  {
   "cell_type": "code",
   "execution_count": null,
   "id": "9d741970",
   "metadata": {},
   "outputs": [],
   "source": [
    "#f.fill_from_rcmip()\n",
    "\n",
    "for iscen, scenario in enumerate(scenarios):\n",
    "    da = da_emissions.loc[dict(config='unspecified', scenario=scenario)][:536, ...]\n",
    "    fe = da.expand_dims(dim=['scenario', 'config'], axis=(1, 2))\n",
    "    f.emissions[:,iscen:iscen+1,:,:] = fe.drop('config') * np.ones((1,1,len(configs),1))\n",
    "    f.emissions[:86,iscen,0,5] = np.linspace(2, f.emissions[85,iscen,0,5], 86)\n",
    "    f.emissions[:86,iscen,0,6] = np.linspace(1.2, f.emissions[85,iscen,0,6], 86)\n",
    "    f.emissions[:86,iscen,0,7] = np.linspace(10, f.emissions[85,iscen,0,7], 86)\n",
    "    f.emissions[:86,iscen,0,8] = np.linspace(4, f.emissions[85,iscen,0,8], 86)\n",
    "    f.emissions[:86,iscen,0,9] = np.linspace(46/14*2, f.emissions[85,iscen,0,9], 86)\n",
    "    f.emissions[:86,iscen,0,10] = np.linspace(10, f.emissions[85,iscen,0,10], 86)\n",
    "    f.emissions[:86,iscen,0,11] = np.linspace(174, f.emissions[85,iscen,0,11], 86)"
   ]
  },
  {
   "cell_type": "code",
   "execution_count": null,
   "id": "e1249309",
   "metadata": {},
   "outputs": [],
   "source": [
    "calibrated_f4co2_mean = df_configs['F_4xCO2'].mean()\n",
    "\n",
    "fill(f.forcing, volcanic_forcing[:, None, None] * df_configs.loc[configs, 'scale Volcanic'].values.squeeze(), specie='Volcanic')\n",
    "fill(f.forcing, \n",
    "     solar_forcing[:, None, None] * \n",
    "     df_configs.loc[configs, 'solar_amplitude'].values.squeeze() + \n",
    "     trend_shape[:, None, None] * df_configs.loc[configs, 'solar_trend'].values.squeeze(),\n",
    "     specie='Solar'\n",
    ")\n",
    "\n",
    "# climate response\n",
    "fill(f.climate_configs['ocean_heat_capacity'], df_configs.loc[configs, 'c1':'c3'].values)\n",
    "fill(f.climate_configs['ocean_heat_transfer'], df_configs.loc[configs, 'kappa1':'kappa3'].values)\n",
    "fill(f.climate_configs['deep_ocean_efficacy'], df_configs.loc[configs, 'epsilon'].values.squeeze())\n",
    "fill(f.climate_configs['gamma_autocorrelation'], df_configs.loc[configs, 'gamma'].values.squeeze())\n",
    "fill(f.climate_configs['sigma_eta'], df_configs.loc[configs, 'sigma_eta'].values.squeeze())\n",
    "fill(f.climate_configs['sigma_xi'], df_configs.loc[configs, 'sigma_xi'].values.squeeze())\n",
    "fill(f.climate_configs['seed'], seed)\n",
    "fill(f.climate_configs['stochastic_run'], True)\n",
    "fill(f.climate_configs['use_seed'], True)\n",
    "fill(f.climate_configs['forcing_4co2'], 2 * erf_2co2 * (1 + 0.561*(calibrated_f4co2_mean - df_configs.loc[configs,'F_4xCO2'])/calibrated_f4co2_mean))\n",
    "\n",
    "# species level\n",
    "f.fill_species_configs()\n",
    "\n",
    "# carbon cycle\n",
    "fill(f.species_configs['iirf_0'], df_configs.loc[configs, 'r0'].values.squeeze(), specie='CO2')\n",
    "fill(f.species_configs['iirf_airborne'], df_configs.loc[configs, 'rA'].values.squeeze(), specie='CO2')\n",
    "fill(f.species_configs['iirf_uptake'], df_configs.loc[configs, 'rU'].values.squeeze(), specie='CO2')\n",
    "fill(f.species_configs['iirf_temperature'], df_configs.loc[configs, 'rT'].values.squeeze(), specie='CO2')\n",
    "\n",
    "# aerosol indirect\n",
    "fill(f.species_configs['aci_scale'], df_configs.loc[configs, 'beta'].values.squeeze())\n",
    "fill(f.species_configs['aci_shape'], df_configs.loc[configs, 'shape_so2'].values.squeeze(), specie='Sulfur')\n",
    "fill(f.species_configs['aci_shape'], df_configs.loc[configs, 'shape_bc'].values.squeeze(), specie='BC')\n",
    "fill(f.species_configs['aci_shape'], df_configs.loc[configs, 'shape_oc'].values.squeeze(), specie='OC')\n",
    "\n",
    "# methane lifetime baseline\n",
    "fill(f.species_configs['unperturbed_lifetime'], 10.4198121, specie='CH4')\n",
    "\n",
    "# emissions adjustments for N2O and CH4 (we don't want to make these defaults as people might wanna run pulse expts with these gases)\n",
    "fill(f.species_configs['baseline_emissions'], 19.019783117809567, specie='CH4')\n",
    "fill(f.species_configs['baseline_emissions'], 0.08602230754, specie='N2O')\n",
    "\n",
    "# aerosol direct\n",
    "for specie in ['BC', 'CH4', 'N2O', 'NH3', 'NOx', 'OC', 'Sulfur', 'VOC', 'Equivalent effective stratospheric chlorine']:\n",
    "    fill(f.species_configs['erfari_radiative_efficiency'], df_configs.loc[configs, f\"ari {specie}\"], specie=specie)\n",
    "\n",
    "# forcing\n",
    "for specie in ['CH4', 'N2O', 'Stratospheric water vapour', 'Contrails', 'Light absorbing particles on snow and ice', 'Land use']:\n",
    "    fill(f.species_configs['forcing_scale'], df_configs.loc[configs, f\"scale {specie}\"].values.squeeze(), specie=specie)\n",
    "for specie in ['CFC-11', 'CFC-12', 'CFC-113', 'CFC-114', 'CFC-115', 'HCFC-22', 'HCFC-141b', 'HCFC-142b',\n",
    "        'CCl4', 'CH3Cl', 'CH3CCl3', 'CH3Br', 'Halon-1202', 'Halon-1211', 'Halon-1301', 'Halon-2402',\n",
    "        'CF4', 'C2F6', 'C6F14', 'SF6',\n",
    "        'HFC-125', 'HFC-134a', 'HFC-143a', 'HFC-227ea', 'HFC-23', 'HFC-245fa', 'HFC-32', 'HFC-4310mee']:\n",
    "    fill(f.species_configs['forcing_scale'], df_configs.loc[configs, 'scale minorGHG'].values.squeeze(), specie=specie)\n",
    "fill(f.species_configs['forcing_scale'], 1 + 0.561*(calibrated_f4co2_mean - df_configs.loc[configs,'F_4xCO2'].values)/calibrated_f4co2_mean, specie='CO2')\n",
    "\n",
    "# ozone\n",
    "for specie in ['CH4', 'N2O', 'CO', 'NOx', 'VOC', 'Equivalent effective stratospheric chlorine']:\n",
    "    fill(f.species_configs['ozone_radiative_efficiency'], df_configs.loc[configs, f\"o3 {specie}\"], specie=specie)\n",
    "\n",
    "# tune down volcanic efficacy\n",
    "fill(f.species_configs['forcing_efficacy'], 0.6, specie='Volcanic')\n",
    "\n",
    "\n",
    "# initial condition of CO2 concentration (but not baseline for forcing calculations)\n",
    "fill(f.species_configs['baseline_concentration'], offset1765co2 + df_configs.loc[configs, 'co2_concentration_1750'].values.squeeze(), specie='CO2')\n",
    "\n",
    "# initial condition of other species\n",
    "fill(f.species_configs['baseline_concentration'], baseline1765ch4, specie='CH4')\n",
    "fill(f.species_configs['baseline_concentration'], baseline1765n2o, specie='N2O')\n",
    "fill(f.species_configs['baseline_emissions'], 2, specie='Sulfur')\n",
    "fill(f.species_configs['baseline_emissions'], 174, specie='CO')\n",
    "fill(f.species_configs['baseline_emissions'], 10, specie='VOC')\n",
    "fill(f.species_configs['baseline_emissions'], 4, specie='NH3')\n",
    "fill(f.species_configs['baseline_emissions'], 2*46/14, specie='NOx')\n",
    "fill(f.species_configs['baseline_emissions'], 1.2, specie='BC')\n",
    "fill(f.species_configs['baseline_emissions'], 10, specie='OC')\n",
    "\n",
    "# initial conditions\n",
    "initialise(f.concentration, f.species_configs['baseline_concentration'])\n",
    "initialise(f.forcing, 0)\n",
    "initialise(f.temperature, 0)\n",
    "initialise(f.cumulative_emissions, 0)\n",
    "initialise(f.airborne_emissions, 0)\n",
    "\n",
    "f.run()"
   ]
  },
  {
   "cell_type": "code",
   "execution_count": null,
   "id": "a0ac7c5e",
   "metadata": {},
   "outputs": [],
   "source": [
    "fig, ax = pl.subplots(1, 4, figsize=(16, 5))\n",
    "\n",
    "for i in range(4):\n",
    "    ax[i].fill_between(\n",
    "        f.timebounds, \n",
    "        np.min(f.temperature[:, i, :, 0]-f.temperature[100:151, i, :, 0].mean(axis=0), axis=1), \n",
    "        np.max(f.temperature[:, i, :, 0]-f.temperature[100:151, i, :, 0].mean(axis=0), axis=1),\n",
    "        color='#000000',\n",
    "        alpha=0.2,\n",
    "    )\n",
    "    ax[i].fill_between(\n",
    "        f.timebounds, \n",
    "        np.percentile(f.temperature[:, i, :, 0]-f.temperature[100:151, i, :, 0].mean(axis=0), 5, axis=1), \n",
    "        np.percentile(f.temperature[:, i, :, 0]-f.temperature[100:151, i, :, 0].mean(axis=0), 95, axis=1),\n",
    "        color='#000000',\n",
    "        alpha=0.2,\n",
    "    )\n",
    "    ax[i].fill_between(\n",
    "        f.timebounds, \n",
    "        np.percentile(f.temperature[:, i, :, 0]-f.temperature[100:151, i, :, 0].mean(axis=0), 16, axis=1), \n",
    "        np.percentile(f.temperature[:, i, :, 0]-f.temperature[100:151, i, :, 0].mean(axis=0), 84, axis=1),\n",
    "        color='#000000',\n",
    "        alpha=0.2,\n",
    "    )\n",
    "    ax[i].plot(\n",
    "        f.timebounds, \n",
    "        np.median(f.temperature[:, i, :, 0]-f.temperature[100:151, i, :, 0].mean(axis=0), axis=1), \n",
    "        color='#000000',\n",
    "    )\n",
    "    ax[i].set_xlim(1750,2300)\n",
    "    ax[i].set_ylim(-1, 10)\n",
    "    ax[i].axhline(0, color='k', ls=\":\", lw=0.5)\n",
    "    ax[i].set_title(scenarios[i])\n",
    "pl.suptitle('Temperature anomaly')"
   ]
  },
  {
   "cell_type": "code",
   "execution_count": null,
   "id": "aa18e49d",
   "metadata": {},
   "outputs": [],
   "source": [
    "for iscen, scenario in enumerate(scenarios):\n",
    "    ds = xr.Dataset(\n",
    "        {\n",
    "            \"temperature\": ([\"year\", \"run\"], (f.temperature[:, iscen, :, 0] - f.temperature[100:151, iscen, :, 0].mean(axis=0)).data),\n",
    "            \"effective_radiative_forcing\": ([\"year\", \"run\"], f.forcing_sum[:, iscen, :].data),\n",
    "            \"ocean_heat_content_change\": ([\"year\", \"run\"], f.ocean_heat_content_change[:, iscen, :].data),\n",
    "            \"co2_concentration\": ([\"year\", \"run\"], f.concentration[:, iscen, :, 2].data),\n",
    "            \"ch4_concentration\": ([\"year\", \"run\"], f.concentration[:, iscen, :, 3].data),\n",
    "            \"n2o_concentration\": ([\"year\"], f.concentration[:, iscen, 0, 4].data),\n",
    "        },\n",
    "        coords={\n",
    "            \"year\": f.timebounds,\n",
    "            \"run\": configs\n",
    "        },\n",
    "    )\n",
    "    ds.to_netcdf('../data_output/stochastic/%s.nc' % scenario)\n",
    "    ds.close()"
   ]
  }
 ],
 "metadata": {
  "kernelspec": {
   "display_name": "Python 3 (ipykernel)",
   "language": "python",
   "name": "python3"
  },
  "language_info": {
   "codemirror_mode": {
    "name": "ipython",
    "version": 3
   },
   "file_extension": ".py",
   "mimetype": "text/x-python",
   "name": "python",
   "nbconvert_exporter": "python",
   "pygments_lexer": "ipython3",
   "version": "3.10.6"
  }
 },
 "nbformat": 4,
 "nbformat_minor": 5
}
