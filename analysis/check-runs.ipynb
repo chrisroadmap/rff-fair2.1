{
 "cells": [
  {
   "cell_type": "code",
   "execution_count": null,
   "id": "152e23b2",
   "metadata": {},
   "outputs": [],
   "source": [
    "import dask\n",
    "import os\n",
    "from pathlib import Path\n",
    "\n",
    "from dotenv import load_dotenv\n",
    "import matplotlib.pyplot as pl\n",
    "import xarray as xr\n",
    "import numpy as np\n",
    "from tqdm.auto import tqdm"
   ]
  },
  {
   "cell_type": "code",
   "execution_count": null,
   "id": "a9ef64c6",
   "metadata": {},
   "outputs": [],
   "source": [
    "load_dotenv()"
   ]
  },
  {
   "cell_type": "code",
   "execution_count": null,
   "id": "7f76275d",
   "metadata": {},
   "outputs": [],
   "source": [
    "DATADIR = Path(os.getenv(\"DATADIR\"))\n",
    "RESULTSDIR = DATADIR.joinpath(\"data_output\", \"stochastic\")"
   ]
  },
  {
   "cell_type": "code",
   "execution_count": null,
   "id": "ad6f8336",
   "metadata": {},
   "outputs": [],
   "source": [
    "RESULTSDIR"
   ]
  },
  {
   "cell_type": "code",
   "execution_count": null,
   "id": "b01a7e79",
   "metadata": {},
   "outputs": [],
   "source": [
    "ds = xr.open_dataset(RESULTSDIR.joinpath(\"run00001.nc\"))"
   ]
  },
  {
   "cell_type": "code",
   "execution_count": null,
   "id": "db554f25",
   "metadata": {},
   "outputs": [],
   "source": [
    "ds"
   ]
  },
  {
   "cell_type": "code",
   "execution_count": null,
   "id": "48d10480",
   "metadata": {},
   "outputs": [],
   "source": [
    "pl.plot(ds.year, ds.temperature);"
   ]
  },
  {
   "cell_type": "code",
   "execution_count": null,
   "id": "a013d9cf",
   "metadata": {},
   "outputs": [],
   "source": [
    "pl.plot(ds.year, np.median(ds.temperature, axis=1));"
   ]
  },
  {
   "cell_type": "code",
   "execution_count": null,
   "id": "8b7911c0",
   "metadata": {},
   "outputs": [],
   "source": [
    "ds = xr.open_mfdataset(str(RESULTSDIR.joinpath(\"run*.nc\")), parallel=True, concat_dim=\"scenario\", combine=\"nested\")"
   ]
  },
  {
   "cell_type": "code",
   "execution_count": null,
   "id": "0f5b3187",
   "metadata": {},
   "outputs": [],
   "source": [
    "ds"
   ]
  },
  {
   "cell_type": "code",
   "execution_count": null,
   "id": "8e5970cc",
   "metadata": {},
   "outputs": [],
   "source": [
    "ds.temperature"
   ]
  },
  {
   "cell_type": "code",
   "execution_count": null,
   "id": "34eac70c",
   "metadata": {},
   "outputs": [],
   "source": [
    "median = ds.temperature.median(dim=\"run\")"
   ]
  },
  {
   "cell_type": "code",
   "execution_count": null,
   "id": "f973bd67",
   "metadata": {},
   "outputs": [],
   "source": [
    "median"
   ]
  },
  {
   "cell_type": "code",
   "execution_count": null,
   "id": "9c3577cf",
   "metadata": {},
   "outputs": [],
   "source": [
    "pl.plot(ds.year, median.T);"
   ]
  },
  {
   "cell_type": "code",
   "execution_count": null,
   "id": "2d0e480b",
   "metadata": {},
   "outputs": [],
   "source": []
  }
 ],
 "metadata": {
  "kernelspec": {
   "display_name": "Python 3 (ipykernel)",
   "language": "python",
   "name": "python3"
  },
  "language_info": {
   "codemirror_mode": {
    "name": "ipython",
    "version": 3
   },
   "file_extension": ".py",
   "mimetype": "text/x-python",
   "name": "python",
   "nbconvert_exporter": "python",
   "pygments_lexer": "ipython3",
   "version": "3.10.9"
  }
 },
 "nbformat": 4,
 "nbformat_minor": 5
}
